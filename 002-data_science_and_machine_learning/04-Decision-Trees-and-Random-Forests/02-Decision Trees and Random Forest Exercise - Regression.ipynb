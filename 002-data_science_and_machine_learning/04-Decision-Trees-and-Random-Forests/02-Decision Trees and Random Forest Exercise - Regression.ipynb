{
 "cells": [
  {
   "attachments": {},
   "cell_type": "markdown",
   "metadata": {},
   "source": [
    "# How to apply Decision Trees and Random Forests to a Regression task"
   ]
  },
  {
   "attachments": {},
   "cell_type": "markdown",
   "metadata": {},
   "source": [
    "Exploring regressions with Decision Trees and Random Forests."
   ]
  },
  {
   "attachments": {},
   "cell_type": "markdown",
   "metadata": {},
   "source": [
    "### 0. Download the dataset from Kaggle"
   ]
  },
  {
   "cell_type": "code",
   "execution_count": 137,
   "metadata": {},
   "outputs": [],
   "source": [
    "import os\n",
    "import zipfile\n",
    "# import pandas as pd\n",
    "\n",
    "initial_working_directory = os.getcwd()\n",
    "\n",
    "kaggle_dataset = \"new-york-city-taxi-fare-prediction\"\n",
    "\n",
    "kaggle_json_path = '<path_to_kaggle_json>' # replace with path to your kaggle.json file\n",
    "\n",
    "os.environ['KAGGLE_CONFIG_DIR'] = kaggle_json_path\n",
    "\n",
    "target_dir = os.path.join('<base_path>', 'Kaggle', kaggle_dataset) # replace <base_path> with desired base directory\n",
    "\n",
    "if not os.path.exists(target_dir):\n",
    "    os.makedirs(target_dir)\n",
    "\n",
    "os.chdir(target_dir)"
   ]
  },
  {
   "cell_type": "code",
   "execution_count": 138,
   "metadata": {},
   "outputs": [],
   "source": [
    "!kaggle competitions download -c {kaggle_dataset} # take care - the file is huge!"
   ]
  },
  {
   "cell_type": "code",
   "execution_count": 139,
   "metadata": {},
   "outputs": [],
   "source": [
    "with zipfile.ZipFile(f'{kaggle_dataset}.zip', 'r') as zip_ref:\n",
    "    zip_ref.extractall()"
   ]
  },
  {
   "attachments": {},
   "cell_type": "markdown",
   "metadata": {},
   "source": [
    "### 1. Load the libraries/modules"
   ]
  },
  {
   "cell_type": "code",
   "execution_count": 199,
   "metadata": {},
   "outputs": [],
   "source": [
    "import pandas as pd\n",
    "import numpy as np\n",
    "import matplotlib.pyplot as plt\n",
    "import seaborn as sns\n",
    "%matplotlib inline\n",
    "\n",
    "from sklearn.tree import DecisionTreeRegressor\n",
    "from sklearn.ensemble import RandomForestRegressor\n",
    "from sklearn.model_selection import train_test_split, GridSearchCV\n",
    "from sklearn.metrics import mean_squared_error, r2_score\n",
    "from sklearn.preprocessing import StandardScaler"
   ]
  },
  {
   "attachments": {},
   "cell_type": "markdown",
   "metadata": {},
   "source": [
    "### 2. Load the dataset"
   ]
  },
  {
   "cell_type": "code",
   "execution_count": 141,
   "metadata": {},
   "outputs": [],
   "source": [
    "df = pd.read_csv('train.csv', nrows=100000)"
   ]
  },
  {
   "cell_type": "code",
   "execution_count": 142,
   "metadata": {},
   "outputs": [],
   "source": [
    "os.chdir(initial_working_directory)"
   ]
  },
  {
   "cell_type": "code",
   "execution_count": null,
   "metadata": {},
   "outputs": [],
   "source": [
    "cwd = os.getcwd()\n",
    "print(cwd)"
   ]
  },
  {
   "attachments": {},
   "cell_type": "markdown",
   "metadata": {},
   "source": [
    "### 3. Transform the dataset into a DataFrame"
   ]
  },
  {
   "cell_type": "code",
   "execution_count": 144,
   "metadata": {},
   "outputs": [
    {
     "name": "stdout",
     "output_type": "stream",
     "text": [
      "<class 'pandas.core.frame.DataFrame'>\n"
     ]
    }
   ],
   "source": [
    "print(type(df))"
   ]
  },
  {
   "attachments": {},
   "cell_type": "markdown",
   "metadata": {},
   "source": [
    "### 4. Exploratory Data Analysis"
   ]
  },
  {
   "cell_type": "code",
   "execution_count": 145,
   "metadata": {},
   "outputs": [
    {
     "name": "stdout",
     "output_type": "stream",
     "text": [
      "<class 'pandas.core.frame.DataFrame'>\n",
      "RangeIndex: 100000 entries, 0 to 99999\n",
      "Data columns (total 8 columns):\n",
      " #   Column             Non-Null Count   Dtype  \n",
      "---  ------             --------------   -----  \n",
      " 0   key                100000 non-null  object \n",
      " 1   fare_amount        100000 non-null  float64\n",
      " 2   pickup_datetime    100000 non-null  object \n",
      " 3   pickup_longitude   100000 non-null  float64\n",
      " 4   pickup_latitude    100000 non-null  float64\n",
      " 5   dropoff_longitude  100000 non-null  float64\n",
      " 6   dropoff_latitude   100000 non-null  float64\n",
      " 7   passenger_count    100000 non-null  int64  \n",
      "dtypes: float64(5), int64(1), object(2)\n",
      "memory usage: 6.1+ MB\n"
     ]
    }
   ],
   "source": [
    "df.info()"
   ]
  },
  {
   "cell_type": "code",
   "execution_count": 146,
   "metadata": {},
   "outputs": [
    {
     "data": {
      "text/html": [
       "<div>\n",
       "<style scoped>\n",
       "    .dataframe tbody tr th:only-of-type {\n",
       "        vertical-align: middle;\n",
       "    }\n",
       "\n",
       "    .dataframe tbody tr th {\n",
       "        vertical-align: top;\n",
       "    }\n",
       "\n",
       "    .dataframe thead th {\n",
       "        text-align: right;\n",
       "    }\n",
       "</style>\n",
       "<table border=\"1\" class=\"dataframe\">\n",
       "  <thead>\n",
       "    <tr style=\"text-align: right;\">\n",
       "      <th></th>\n",
       "      <th>fare_amount</th>\n",
       "      <th>pickup_longitude</th>\n",
       "      <th>pickup_latitude</th>\n",
       "      <th>dropoff_longitude</th>\n",
       "      <th>dropoff_latitude</th>\n",
       "      <th>passenger_count</th>\n",
       "    </tr>\n",
       "  </thead>\n",
       "  <tbody>\n",
       "    <tr>\n",
       "      <th>count</th>\n",
       "      <td>100000.000000</td>\n",
       "      <td>100000.000000</td>\n",
       "      <td>100000.000000</td>\n",
       "      <td>100000.000000</td>\n",
       "      <td>100000.000000</td>\n",
       "      <td>100000.000000</td>\n",
       "    </tr>\n",
       "    <tr>\n",
       "      <th>mean</th>\n",
       "      <td>11.354652</td>\n",
       "      <td>-72.494682</td>\n",
       "      <td>39.914481</td>\n",
       "      <td>-72.490967</td>\n",
       "      <td>39.919053</td>\n",
       "      <td>1.673820</td>\n",
       "    </tr>\n",
       "    <tr>\n",
       "      <th>std</th>\n",
       "      <td>9.716777</td>\n",
       "      <td>10.693934</td>\n",
       "      <td>6.225686</td>\n",
       "      <td>10.471386</td>\n",
       "      <td>6.213427</td>\n",
       "      <td>1.300171</td>\n",
       "    </tr>\n",
       "    <tr>\n",
       "      <th>min</th>\n",
       "      <td>-44.900000</td>\n",
       "      <td>-736.550000</td>\n",
       "      <td>-74.007670</td>\n",
       "      <td>-84.654241</td>\n",
       "      <td>-74.006377</td>\n",
       "      <td>0.000000</td>\n",
       "    </tr>\n",
       "    <tr>\n",
       "      <th>25%</th>\n",
       "      <td>6.000000</td>\n",
       "      <td>-73.992041</td>\n",
       "      <td>40.734996</td>\n",
       "      <td>-73.991215</td>\n",
       "      <td>40.734182</td>\n",
       "      <td>1.000000</td>\n",
       "    </tr>\n",
       "    <tr>\n",
       "      <th>50%</th>\n",
       "      <td>8.500000</td>\n",
       "      <td>-73.981789</td>\n",
       "      <td>40.752765</td>\n",
       "      <td>-73.980000</td>\n",
       "      <td>40.753243</td>\n",
       "      <td>1.000000</td>\n",
       "    </tr>\n",
       "    <tr>\n",
       "      <th>75%</th>\n",
       "      <td>12.500000</td>\n",
       "      <td>-73.966982</td>\n",
       "      <td>40.767258</td>\n",
       "      <td>-73.963433</td>\n",
       "      <td>40.768166</td>\n",
       "      <td>2.000000</td>\n",
       "    </tr>\n",
       "    <tr>\n",
       "      <th>max</th>\n",
       "      <td>200.000000</td>\n",
       "      <td>40.787575</td>\n",
       "      <td>401.083332</td>\n",
       "      <td>40.851027</td>\n",
       "      <td>404.616667</td>\n",
       "      <td>6.000000</td>\n",
       "    </tr>\n",
       "  </tbody>\n",
       "</table>\n",
       "</div>"
      ],
      "text/plain": [
       "         fare_amount  pickup_longitude  pickup_latitude  dropoff_longitude  \\\n",
       "count  100000.000000     100000.000000    100000.000000      100000.000000   \n",
       "mean       11.354652        -72.494682        39.914481         -72.490967   \n",
       "std         9.716777         10.693934         6.225686          10.471386   \n",
       "min       -44.900000       -736.550000       -74.007670         -84.654241   \n",
       "25%         6.000000        -73.992041        40.734996         -73.991215   \n",
       "50%         8.500000        -73.981789        40.752765         -73.980000   \n",
       "75%        12.500000        -73.966982        40.767258         -73.963433   \n",
       "max       200.000000         40.787575       401.083332          40.851027   \n",
       "\n",
       "       dropoff_latitude  passenger_count  \n",
       "count     100000.000000    100000.000000  \n",
       "mean          39.919053         1.673820  \n",
       "std            6.213427         1.300171  \n",
       "min          -74.006377         0.000000  \n",
       "25%           40.734182         1.000000  \n",
       "50%           40.753243         1.000000  \n",
       "75%           40.768166         2.000000  \n",
       "max          404.616667         6.000000  "
      ]
     },
     "execution_count": 146,
     "metadata": {},
     "output_type": "execute_result"
    }
   ],
   "source": [
    "df.describe()"
   ]
  },
  {
   "cell_type": "code",
   "execution_count": 147,
   "metadata": {},
   "outputs": [
    {
     "data": {
      "text/plain": [
       "key                  0\n",
       "fare_amount          0\n",
       "pickup_datetime      0\n",
       "pickup_longitude     0\n",
       "pickup_latitude      0\n",
       "dropoff_longitude    0\n",
       "dropoff_latitude     0\n",
       "passenger_count      0\n",
       "dtype: int64"
      ]
     },
     "execution_count": 147,
     "metadata": {},
     "output_type": "execute_result"
    }
   ],
   "source": [
    "df.isnull().sum()"
   ]
  },
  {
   "cell_type": "code",
   "execution_count": 148,
   "metadata": {},
   "outputs": [
    {
     "data": {
      "text/plain": [
       "Text(0, 0.5, 'Frequency')"
      ]
     },
     "execution_count": 148,
     "metadata": {},
     "output_type": "execute_result"
    },
    {
     "data": {
      "image/png": "[encoded data removed]",
      "text/plain": [
       "<Figure size 640x480 with 1 Axes>"
      ]
     },
     "metadata": {},
     "output_type": "display_data"
    }
   ],
   "source": [
    "sns.histplot(df['fare_amount'], kde=True)\n",
    "plt.title('Fare Amount Distribution')\n",
    "plt.xlabel('Fare Amount')\n",
    "plt.ylabel('Frequency')"
   ]
  },
  {
   "cell_type": "code",
   "execution_count": 149,
   "metadata": {},
   "outputs": [],
   "source": [
    "df['pickup_datetime'] = pd.to_datetime(df['pickup_datetime'])\n",
    "df['year'] = df['pickup_datetime'].dt.year\n",
    "df['month'] = df['pickup_datetime'].dt.month\n",
    "df['day'] = df['pickup_datetime'].dt.day\n",
    "df['hour'] = df['pickup_datetime'].dt.hour\n",
    "df['day_of_week'] = df['pickup_datetime'].dt.dayofweek + 1"
   ]
  },
  {
   "cell_type": "code",
   "execution_count": 150,
   "metadata": {},
   "outputs": [
    {
     "data": {
      "text/plain": [
       "Text(0.5, 1.0, 'Fare Amount by Year')"
      ]
     },
     "execution_count": 150,
     "metadata": {},
     "output_type": "execute_result"
    },
    {
     "data": {
      "image/png": "[encoded data removed]",
      "text/plain": [
       "<Figure size 640x480 with 1 Axes>"
      ]
     },
     "metadata": {},
     "output_type": "display_data"
    }
   ],
   "source": [
    "sns.lineplot(x='year', y='fare_amount', data=df)\n",
    "plt.title('Fare Amount by Year')"
   ]
  },
  {
   "cell_type": "code",
   "execution_count": 151,
   "metadata": {},
   "outputs": [
    {
     "data": {
      "text/plain": [
       "Text(0.5, 1.0, 'Fare Amount by Month')"
      ]
     },
     "execution_count": 151,
     "metadata": {},
     "output_type": "execute_result"
    },
    {
     "data": {
      "image/png": "[encoded data removed]",
      "text/plain": [
       "<Figure size 640x480 with 1 Axes>"
      ]
     },
     "metadata": {},
     "output_type": "display_data"
    }
   ],
   "source": [
    "sns.lineplot(x='month', y='fare_amount', data=df)\n",
    "plt.title('Fare Amount by Month')"
   ]
  },
  {
   "cell_type": "code",
   "execution_count": 152,
   "metadata": {},
   "outputs": [
    {
     "data": {
      "text/plain": [
       "Text(0.5, 1.0, 'Fare Amount by Day of Week')"
      ]
     },
     "execution_count": 152,
     "metadata": {},
     "output_type": "execute_result"
    },
    {
     "data": {
      "image/png": "[encoded data removed]",
      "text/plain": [
       "<Figure size 640x480 with 1 Axes>"
      ]
     },
     "metadata": {},
     "output_type": "display_data"
    }
   ],
   "source": [
    "sns.lineplot(x='day_of_week', y='fare_amount', data=df)\n",
    "plt.title('Fare Amount by Day of Week')"
   ]
  },
  {
   "cell_type": "code",
   "execution_count": 153,
   "metadata": {},
   "outputs": [
    {
     "data": {
      "text/plain": [
       "Text(0.5, 1.0, 'Fare Amount by Hour')"
      ]
     },
     "execution_count": 153,
     "metadata": {},
     "output_type": "execute_result"
    },
    {
     "data": {
      "image/png": "[encoded data removed]",
      "text/plain": [
       "<Figure size 640x480 with 1 Axes>"
      ]
     },
     "metadata": {},
     "output_type": "display_data"
    }
   ],
   "source": [
    "sns.lineplot(x='hour', y='fare_amount', data=df)\n",
    "plt.title('Fare Amount by Hour')"
   ]
  },
  {
   "cell_type": "code",
   "execution_count": 154,
   "metadata": {},
   "outputs": [],
   "source": [
    "def haversine_distance(lat1, lon1, lat2, lon2):\n",
    "    R = 6371  # Earth's radius in km\n",
    "    lat1_rad, lon1_rad = np.radians(lat1), np.radians(lon1)\n",
    "    lat2_rad, lon2_rad = np.radians(lat2), np.radians(lon2)\n",
    "    \n",
    "    delta_lat = lat2_rad - lat1_rad\n",
    "    delta_lon = lon2_rad - lon1_rad\n",
    "    \n",
    "    a = np.sin(delta_lat / 2)**2 + np.cos(lat1_rad) * np.cos(lat2_rad) * np.sin(delta_lon / 2)**2\n",
    "    c = 2 * np.arctan2(np.sqrt(a), np.sqrt(1 - a))\n",
    "    \n",
    "    return R * c\n",
    "\n",
    "df['distance'] = haversine_distance(df['pickup_latitude'], df['pickup_longitude'], df['dropoff_latitude'], df['dropoff_longitude'])"
   ]
  },
  {
   "cell_type": "code",
   "execution_count": 155,
   "metadata": {},
   "outputs": [
    {
     "data": {
      "text/plain": [
       "Text(0, 0.5, 'Fare Amount')"
      ]
     },
     "execution_count": 155,
     "metadata": {},
     "output_type": "execute_result"
    },
    {
     "data": {
      "image/png": "[encoded data removed]",
      "text/plain": [
       "<Figure size 640x480 with 1 Axes>"
      ]
     },
     "metadata": {},
     "output_type": "display_data"
    }
   ],
   "source": [
    "sns.scatterplot(x='distance', y='fare_amount', data=df)\n",
    "plt.title('Fare Amount by Distance')\n",
    "plt.xlabel('Distance (km)')\n",
    "plt.ylabel('Fare Amount')"
   ]
  },
  {
   "cell_type": "code",
   "execution_count": 156,
   "metadata": {},
   "outputs": [
    {
     "data": {
      "text/html": [
       "<div>\n",
       "<style scoped>\n",
       "    .dataframe tbody tr th:only-of-type {\n",
       "        vertical-align: middle;\n",
       "    }\n",
       "\n",
       "    .dataframe tbody tr th {\n",
       "        vertical-align: top;\n",
       "    }\n",
       "\n",
       "    .dataframe thead th {\n",
       "        text-align: right;\n",
       "    }\n",
       "</style>\n",
       "<table border=\"1\" class=\"dataframe\">\n",
       "  <thead>\n",
       "    <tr style=\"text-align: right;\">\n",
       "      <th></th>\n",
       "      <th>key</th>\n",
       "      <th>fare_amount</th>\n",
       "      <th>pickup_datetime</th>\n",
       "      <th>pickup_longitude</th>\n",
       "      <th>pickup_latitude</th>\n",
       "      <th>dropoff_longitude</th>\n",
       "      <th>dropoff_latitude</th>\n",
       "      <th>passenger_count</th>\n",
       "      <th>year</th>\n",
       "      <th>month</th>\n",
       "      <th>day</th>\n",
       "      <th>hour</th>\n",
       "      <th>day_of_week</th>\n",
       "      <th>distance</th>\n",
       "    </tr>\n",
       "  </thead>\n",
       "  <tbody>\n",
       "    <tr>\n",
       "      <th>472</th>\n",
       "      <td>2009-02-22 22:48:00.000000130</td>\n",
       "      <td>2.5</td>\n",
       "      <td>2009-02-22 22:48:00+00:00</td>\n",
       "      <td>0.000000</td>\n",
       "      <td>0.000000</td>\n",
       "      <td>-74.005433</td>\n",
       "      <td>40.726685</td>\n",
       "      <td>2</td>\n",
       "      <td>2009</td>\n",
       "      <td>2</td>\n",
       "      <td>22</td>\n",
       "      <td>22</td>\n",
       "      <td>7</td>\n",
       "      <td>8667.304968</td>\n",
       "    </tr>\n",
       "    <tr>\n",
       "      <th>1260</th>\n",
       "      <td>2011-03-10 20:25:00.00000049</td>\n",
       "      <td>5.7</td>\n",
       "      <td>2011-03-10 20:25:00+00:00</td>\n",
       "      <td>-73.973907</td>\n",
       "      <td>40.754743</td>\n",
       "      <td>0.000000</td>\n",
       "      <td>0.000000</td>\n",
       "      <td>2</td>\n",
       "      <td>2011</td>\n",
       "      <td>3</td>\n",
       "      <td>10</td>\n",
       "      <td>20</td>\n",
       "      <td>4</td>\n",
       "      <td>8665.268588</td>\n",
       "    </tr>\n",
       "    <tr>\n",
       "      <th>2280</th>\n",
       "      <td>2011-08-29 08:24:00.000000107</td>\n",
       "      <td>8.9</td>\n",
       "      <td>2011-08-29 08:24:00+00:00</td>\n",
       "      <td>-73.936667</td>\n",
       "      <td>40.757815</td>\n",
       "      <td>0.000000</td>\n",
       "      <td>40.757815</td>\n",
       "      <td>1</td>\n",
       "      <td>2011</td>\n",
       "      <td>8</td>\n",
       "      <td>29</td>\n",
       "      <td>8</td>\n",
       "      <td>1</td>\n",
       "      <td>6026.494216</td>\n",
       "    </tr>\n",
       "    <tr>\n",
       "      <th>2397</th>\n",
       "      <td>2012-06-24 17:11:10.0000001</td>\n",
       "      <td>45.0</td>\n",
       "      <td>2012-06-24 17:11:10+00:00</td>\n",
       "      <td>0.000000</td>\n",
       "      <td>0.000000</td>\n",
       "      <td>-74.010230</td>\n",
       "      <td>40.714553</td>\n",
       "      <td>2</td>\n",
       "      <td>2012</td>\n",
       "      <td>6</td>\n",
       "      <td>24</td>\n",
       "      <td>17</td>\n",
       "      <td>7</td>\n",
       "      <td>8667.454421</td>\n",
       "    </tr>\n",
       "    <tr>\n",
       "      <th>4278</th>\n",
       "      <td>2015-04-07 23:33:02.0000005</td>\n",
       "      <td>7.0</td>\n",
       "      <td>2015-04-07 23:33:02+00:00</td>\n",
       "      <td>-73.972702</td>\n",
       "      <td>40.757423</td>\n",
       "      <td>0.000000</td>\n",
       "      <td>0.000000</td>\n",
       "      <td>1</td>\n",
       "      <td>2015</td>\n",
       "      <td>4</td>\n",
       "      <td>7</td>\n",
       "      <td>23</td>\n",
       "      <td>2</td>\n",
       "      <td>8665.223767</td>\n",
       "    </tr>\n",
       "    <tr>\n",
       "      <th>...</th>\n",
       "      <td>...</td>\n",
       "      <td>...</td>\n",
       "      <td>...</td>\n",
       "      <td>...</td>\n",
       "      <td>...</td>\n",
       "      <td>...</td>\n",
       "      <td>...</td>\n",
       "      <td>...</td>\n",
       "      <td>...</td>\n",
       "      <td>...</td>\n",
       "      <td>...</td>\n",
       "      <td>...</td>\n",
       "      <td>...</td>\n",
       "      <td>...</td>\n",
       "    </tr>\n",
       "    <tr>\n",
       "      <th>98167</th>\n",
       "      <td>2012-11-25 17:59:00.00000026</td>\n",
       "      <td>4.0</td>\n",
       "      <td>2012-11-25 17:59:00+00:00</td>\n",
       "      <td>0.000000</td>\n",
       "      <td>41.453693</td>\n",
       "      <td>0.000000</td>\n",
       "      <td>0.000000</td>\n",
       "      <td>5</td>\n",
       "      <td>2012</td>\n",
       "      <td>11</td>\n",
       "      <td>25</td>\n",
       "      <td>17</td>\n",
       "      <td>7</td>\n",
       "      <td>4609.440352</td>\n",
       "    </tr>\n",
       "    <tr>\n",
       "      <th>98360</th>\n",
       "      <td>2012-07-13 17:01:00.000000107</td>\n",
       "      <td>8.9</td>\n",
       "      <td>2012-07-13 17:01:00+00:00</td>\n",
       "      <td>-1.383332</td>\n",
       "      <td>40.808887</td>\n",
       "      <td>-73.978395</td>\n",
       "      <td>40.779790</td>\n",
       "      <td>1</td>\n",
       "      <td>2012</td>\n",
       "      <td>7</td>\n",
       "      <td>13</td>\n",
       "      <td>17</td>\n",
       "      <td>5</td>\n",
       "      <td>5921.327066</td>\n",
       "    </tr>\n",
       "    <tr>\n",
       "      <th>98596</th>\n",
       "      <td>2014-07-20 04:26:00.00000027</td>\n",
       "      <td>19.0</td>\n",
       "      <td>2014-07-20 04:26:00+00:00</td>\n",
       "      <td>0.000000</td>\n",
       "      <td>0.000000</td>\n",
       "      <td>-73.959900</td>\n",
       "      <td>40.801250</td>\n",
       "      <td>1</td>\n",
       "      <td>2014</td>\n",
       "      <td>7</td>\n",
       "      <td>20</td>\n",
       "      <td>4</td>\n",
       "      <td>7</td>\n",
       "      <td>8665.063366</td>\n",
       "    </tr>\n",
       "    <tr>\n",
       "      <th>99532</th>\n",
       "      <td>2012-06-25 18:44:00.000000144</td>\n",
       "      <td>8.9</td>\n",
       "      <td>2012-06-25 18:44:00+00:00</td>\n",
       "      <td>-73.978523</td>\n",
       "      <td>69.400000</td>\n",
       "      <td>-73.955138</td>\n",
       "      <td>40.779992</td>\n",
       "      <td>1</td>\n",
       "      <td>2012</td>\n",
       "      <td>6</td>\n",
       "      <td>25</td>\n",
       "      <td>18</td>\n",
       "      <td>1</td>\n",
       "      <td>3182.399985</td>\n",
       "    </tr>\n",
       "    <tr>\n",
       "      <th>99737</th>\n",
       "      <td>2015-03-31 15:59:56.0000009</td>\n",
       "      <td>9.0</td>\n",
       "      <td>2015-03-31 15:59:56+00:00</td>\n",
       "      <td>-73.957809</td>\n",
       "      <td>40.773750</td>\n",
       "      <td>0.000000</td>\n",
       "      <td>0.000000</td>\n",
       "      <td>1</td>\n",
       "      <td>2015</td>\n",
       "      <td>3</td>\n",
       "      <td>31</td>\n",
       "      <td>15</td>\n",
       "      <td>2</td>\n",
       "      <td>8664.325920</td>\n",
       "    </tr>\n",
       "  </tbody>\n",
       "</table>\n",
       "<p>187 rows × 14 columns</p>\n",
       "</div>"
      ],
      "text/plain": [
       "                                 key  fare_amount           pickup_datetime  \\\n",
       "472    2009-02-22 22:48:00.000000130          2.5 2009-02-22 22:48:00+00:00   \n",
       "1260    2011-03-10 20:25:00.00000049          5.7 2011-03-10 20:25:00+00:00   \n",
       "2280   2011-08-29 08:24:00.000000107          8.9 2011-08-29 08:24:00+00:00   \n",
       "2397     2012-06-24 17:11:10.0000001         45.0 2012-06-24 17:11:10+00:00   \n",
       "4278     2015-04-07 23:33:02.0000005          7.0 2015-04-07 23:33:02+00:00   \n",
       "...                              ...          ...                       ...   \n",
       "98167   2012-11-25 17:59:00.00000026          4.0 2012-11-25 17:59:00+00:00   \n",
       "98360  2012-07-13 17:01:00.000000107          8.9 2012-07-13 17:01:00+00:00   \n",
       "98596   2014-07-20 04:26:00.00000027         19.0 2014-07-20 04:26:00+00:00   \n",
       "99532  2012-06-25 18:44:00.000000144          8.9 2012-06-25 18:44:00+00:00   \n",
       "99737    2015-03-31 15:59:56.0000009          9.0 2015-03-31 15:59:56+00:00   \n",
       "\n",
       "       pickup_longitude  pickup_latitude  dropoff_longitude  dropoff_latitude  \\\n",
       "472            0.000000         0.000000         -74.005433         40.726685   \n",
       "1260         -73.973907        40.754743           0.000000          0.000000   \n",
       "2280         -73.936667        40.757815           0.000000         40.757815   \n",
       "2397           0.000000         0.000000         -74.010230         40.714553   \n",
       "4278         -73.972702        40.757423           0.000000          0.000000   \n",
       "...                 ...              ...                ...               ...   \n",
       "98167          0.000000        41.453693           0.000000          0.000000   \n",
       "98360         -1.383332        40.808887         -73.978395         40.779790   \n",
       "98596          0.000000         0.000000         -73.959900         40.801250   \n",
       "99532        -73.978523        69.400000         -73.955138         40.779992   \n",
       "99737        -73.957809        40.773750           0.000000          0.000000   \n",
       "\n",
       "       passenger_count  year  month  day  hour  day_of_week     distance  \n",
       "472                  2  2009      2   22    22            7  8667.304968  \n",
       "1260                 2  2011      3   10    20            4  8665.268588  \n",
       "2280                 1  2011      8   29     8            1  6026.494216  \n",
       "2397                 2  2012      6   24    17            7  8667.454421  \n",
       "4278                 1  2015      4    7    23            2  8665.223767  \n",
       "...                ...   ...    ...  ...   ...          ...          ...  \n",
       "98167                5  2012     11   25    17            7  4609.440352  \n",
       "98360                1  2012      7   13    17            5  5921.327066  \n",
       "98596                1  2014      7   20     4            7  8665.063366  \n",
       "99532                1  2012      6   25    18            1  3182.399985  \n",
       "99737                1  2015      3   31    15            2  8664.325920  \n",
       "\n",
       "[187 rows x 14 columns]"
      ]
     },
     "execution_count": 156,
     "metadata": {},
     "output_type": "execute_result"
    }
   ],
   "source": [
    "df[df['distance'] > 2000]"
   ]
  },
  {
   "cell_type": "code",
   "execution_count": 157,
   "metadata": {},
   "outputs": [],
   "source": [
    "df = df[df['distance'] < 2000]"
   ]
  },
  {
   "cell_type": "code",
   "execution_count": 158,
   "metadata": {},
   "outputs": [
    {
     "data": {
      "text/plain": [
       "(99813, 14)"
      ]
     },
     "execution_count": 158,
     "metadata": {},
     "output_type": "execute_result"
    }
   ],
   "source": [
    "df.shape"
   ]
  },
  {
   "cell_type": "code",
   "execution_count": 159,
   "metadata": {},
   "outputs": [
    {
     "data": {
      "text/plain": [
       "Text(0, 0.5, 'Fare Amount')"
      ]
     },
     "execution_count": 159,
     "metadata": {},
     "output_type": "execute_result"
    },
    {
     "data": {
      "image/png": "[encoded data removed]",
      "text/plain": [
       "<Figure size 640x480 with 1 Axes>"
      ]
     },
     "metadata": {},
     "output_type": "display_data"
    }
   ],
   "source": [
    "sns.boxplot(x='passenger_count', y='fare_amount', data=df)\n",
    "plt.title('Fare Amount by Passenger Count')\n",
    "plt.xlabel('Passenger Count')\n",
    "plt.ylabel('Fare Amount')"
   ]
  },
  {
   "cell_type": "code",
   "execution_count": 160,
   "metadata": {},
   "outputs": [
    {
     "data": {
      "text/plain": [
       "Text(0.05, 0.95, 'R = 0.63, p = 0.00e+00')"
      ]
     },
     "execution_count": 160,
     "metadata": {},
     "output_type": "execute_result"
    },
    {
     "data": {
      "image/png": "[encoded data removed]",
      "text/plain": [
       "<Figure size 640x480 with 1 Axes>"
      ]
     },
     "metadata": {},
     "output_type": "display_data"
    }
   ],
   "source": [
    "from scipy.stats import pearsonr\n",
    "\n",
    "x_col = 'distance'\n",
    "y_col = 'fare_amount'\n",
    "\n",
    "sns.regplot(x=x_col, y=y_col, data=df, scatter_kws={'alpha': 0.1})\n",
    "plt.title(f'{y_col} vs. {x_col}')\n",
    "plt.xlabel(x_col)\n",
    "plt.ylabel(y_col)\n",
    "\n",
    "pearson_r, p_value = pearsonr(df[x_col], df[y_col])\n",
    "\n",
    "plt.text(0.05, 0.95, f\"R = {pearson_r:.2f}, p = {p_value:.2e}\",\n",
    "         transform=plt.gca().transAxes, fontsize=10,\n",
    "         verticalalignment='top')"
   ]
  },
  {
   "cell_type": "code",
   "execution_count": 161,
   "metadata": {},
   "outputs": [
    {
     "name": "stdout",
     "output_type": "stream",
     "text": [
      "Number of zeros in pickup_longitude: 1833\n",
      "Number of zeros in pickup_latitude: 1833\n",
      "Number of zeros in dropoff_longitude: 1833\n",
      "Number of zeros in dropoff_latitude: 1833\n"
     ]
    }
   ],
   "source": [
    "cols = ['pickup_longitude', 'pickup_latitude', 'dropoff_longitude', 'dropoff_latitude']\n",
    "for col in cols:\n",
    "    zero_count = (df[col] == 0).sum()\n",
    "    print(f'Number of zeros in {col}: {zero_count}')"
   ]
  },
  {
   "cell_type": "code",
   "execution_count": 162,
   "metadata": {},
   "outputs": [
    {
     "data": {
      "text/plain": [
       "(57, 14)"
      ]
     },
     "execution_count": 162,
     "metadata": {},
     "output_type": "execute_result"
    }
   ],
   "source": [
    "df[(df['pickup_longitude'] > -70) & (df['pickup_longitude'] != 0)].shape"
   ]
  },
  {
   "cell_type": "code",
   "execution_count": 163,
   "metadata": {},
   "outputs": [
    {
     "data": {
      "text/plain": [
       "(57, 14)"
      ]
     },
     "execution_count": 163,
     "metadata": {},
     "output_type": "execute_result"
    }
   ],
   "source": [
    "df[(df['dropoff_longitude'] > -70) & (df['dropoff_longitude'] != 0)].shape"
   ]
  },
  {
   "cell_type": "code",
   "execution_count": 164,
   "metadata": {},
   "outputs": [
    {
     "data": {
      "text/plain": [
       "(72, 14)"
      ]
     },
     "execution_count": 164,
     "metadata": {},
     "output_type": "execute_result"
    }
   ],
   "source": [
    "df[(df['pickup_latitude'] < 40) & (df['pickup_latitude'] != 0)].shape"
   ]
  },
  {
   "cell_type": "code",
   "execution_count": 165,
   "metadata": {},
   "outputs": [
    {
     "data": {
      "text/plain": [
       "(68, 14)"
      ]
     },
     "execution_count": 165,
     "metadata": {},
     "output_type": "execute_result"
    }
   ],
   "source": [
    "df[(df['dropoff_latitude'] < 40) & (df['dropoff_latitude'] != 0)].shape"
   ]
  },
  {
   "cell_type": "code",
   "execution_count": 166,
   "metadata": {},
   "outputs": [],
   "source": [
    "def fix_coordinates(df, lon_col, lat_col):\n",
    "    df.loc[df[lat_col] > 400, lat_col] = df.loc[df[lat_col] > 400, lat_col] / 10\n",
    "    \n",
    "    reverse_rows = df[lon_col] > -70\n",
    "    df.loc[reverse_rows, [lon_col, lat_col]] = df.loc[reverse_rows, [lat_col, lon_col]].values\n",
    "    \n",
    "    # reverse_rows = df[lat_col] < 40\n",
    "    # df.loc[reverse_rows, [lon_col, lat_col]] = df.loc[reverse_rows, [lat_col, lon_col]].values\n",
    "    \n",
    "    return df\n",
    "\n",
    "cols_to_fix = [('pickup_longitude', 'pickup_latitude'), ('dropoff_longitude', 'dropoff_latitude')]\n",
    "\n",
    "for lon_col, lat_col in cols_to_fix:\n",
    "    df_fixed = fix_coordinates(df, lon_col, lat_col)"
   ]
  },
  {
   "cell_type": "code",
   "execution_count": 167,
   "metadata": {},
   "outputs": [
    {
     "data": {
      "text/plain": [
       "(11, 14)"
      ]
     },
     "execution_count": 167,
     "metadata": {},
     "output_type": "execute_result"
    }
   ],
   "source": [
    "df_fixed[(df_fixed['pickup_longitude'] > -70) & (df_fixed['pickup_longitude'] != 0)].shape"
   ]
  },
  {
   "cell_type": "code",
   "execution_count": 168,
   "metadata": {},
   "outputs": [
    {
     "data": {
      "text/html": [
       "<div>\n",
       "<style scoped>\n",
       "    .dataframe tbody tr th:only-of-type {\n",
       "        vertical-align: middle;\n",
       "    }\n",
       "\n",
       "    .dataframe tbody tr th {\n",
       "        vertical-align: top;\n",
       "    }\n",
       "\n",
       "    .dataframe thead th {\n",
       "        text-align: right;\n",
       "    }\n",
       "</style>\n",
       "<table border=\"1\" class=\"dataframe\">\n",
       "  <thead>\n",
       "    <tr style=\"text-align: right;\">\n",
       "      <th></th>\n",
       "      <th>key</th>\n",
       "      <th>fare_amount</th>\n",
       "      <th>pickup_datetime</th>\n",
       "      <th>pickup_longitude</th>\n",
       "      <th>pickup_latitude</th>\n",
       "      <th>dropoff_longitude</th>\n",
       "      <th>dropoff_latitude</th>\n",
       "      <th>passenger_count</th>\n",
       "      <th>year</th>\n",
       "      <th>month</th>\n",
       "      <th>day</th>\n",
       "      <th>hour</th>\n",
       "      <th>day_of_week</th>\n",
       "      <th>distance</th>\n",
       "    </tr>\n",
       "  </thead>\n",
       "  <tbody>\n",
       "    <tr>\n",
       "      <th>1181</th>\n",
       "      <td>2012-10-11 00:21:00.000000140</td>\n",
       "      <td>25.0</td>\n",
       "      <td>2012-10-11 00:21:00+00:00</td>\n",
       "      <td>0.033500</td>\n",
       "      <td>-0.004093</td>\n",
       "      <td>0.017980</td>\n",
       "      <td>0.016852</td>\n",
       "      <td>2</td>\n",
       "      <td>2012</td>\n",
       "      <td>10</td>\n",
       "      <td>11</td>\n",
       "      <td>0</td>\n",
       "      <td>4</td>\n",
       "      <td>2.898678</td>\n",
       "    </tr>\n",
       "    <tr>\n",
       "      <th>33889</th>\n",
       "      <td>2009-12-05 22:34:00.000000151</td>\n",
       "      <td>6.5</td>\n",
       "      <td>2009-12-05 22:34:00+00:00</td>\n",
       "      <td>-0.051833</td>\n",
       "      <td>-0.032060</td>\n",
       "      <td>-0.048933</td>\n",
       "      <td>-0.034800</td>\n",
       "      <td>2</td>\n",
       "      <td>2009</td>\n",
       "      <td>12</td>\n",
       "      <td>5</td>\n",
       "      <td>22</td>\n",
       "      <td>6</td>\n",
       "      <td>0.443633</td>\n",
       "    </tr>\n",
       "    <tr>\n",
       "      <th>50784</th>\n",
       "      <td>2011-08-11 00:35:00.00000077</td>\n",
       "      <td>8.5</td>\n",
       "      <td>2011-08-11 00:35:00+00:00</td>\n",
       "      <td>0.010867</td>\n",
       "      <td>0.115070</td>\n",
       "      <td>0.002200</td>\n",
       "      <td>0.119188</td>\n",
       "      <td>1</td>\n",
       "      <td>2011</td>\n",
       "      <td>8</td>\n",
       "      <td>11</td>\n",
       "      <td>0</td>\n",
       "      <td>4</td>\n",
       "      <td>1.066978</td>\n",
       "    </tr>\n",
       "    <tr>\n",
       "      <th>66433</th>\n",
       "      <td>2010-07-28 09:22:00.000000254</td>\n",
       "      <td>7.3</td>\n",
       "      <td>2010-07-28 09:22:00+00:00</td>\n",
       "      <td>-0.003652</td>\n",
       "      <td>0.002802</td>\n",
       "      <td>0.005768</td>\n",
       "      <td>-0.003795</td>\n",
       "      <td>5</td>\n",
       "      <td>2010</td>\n",
       "      <td>7</td>\n",
       "      <td>28</td>\n",
       "      <td>9</td>\n",
       "      <td>3</td>\n",
       "      <td>1.278775</td>\n",
       "    </tr>\n",
       "    <tr>\n",
       "      <th>67590</th>\n",
       "      <td>2009-10-30 08:53:00.00000034</td>\n",
       "      <td>15.3</td>\n",
       "      <td>2009-10-30 08:53:00+00:00</td>\n",
       "      <td>0.005913</td>\n",
       "      <td>-0.001745</td>\n",
       "      <td>0.020688</td>\n",
       "      <td>-0.009457</td>\n",
       "      <td>5</td>\n",
       "      <td>2009</td>\n",
       "      <td>10</td>\n",
       "      <td>30</td>\n",
       "      <td>8</td>\n",
       "      <td>5</td>\n",
       "      <td>1.853241</td>\n",
       "    </tr>\n",
       "    <tr>\n",
       "      <th>68501</th>\n",
       "      <td>2010-07-11 12:47:00.00000079</td>\n",
       "      <td>6.1</td>\n",
       "      <td>2010-07-11 12:47:00+00:00</td>\n",
       "      <td>0.000775</td>\n",
       "      <td>0.000183</td>\n",
       "      <td>0.006420</td>\n",
       "      <td>0.003535</td>\n",
       "      <td>1</td>\n",
       "      <td>2010</td>\n",
       "      <td>7</td>\n",
       "      <td>11</td>\n",
       "      <td>12</td>\n",
       "      <td>7</td>\n",
       "      <td>0.730018</td>\n",
       "    </tr>\n",
       "    <tr>\n",
       "      <th>70511</th>\n",
       "      <td>2009-10-20 11:51:00.0000009</td>\n",
       "      <td>10.1</td>\n",
       "      <td>2009-10-20 11:51:00+00:00</td>\n",
       "      <td>-0.000227</td>\n",
       "      <td>-0.016452</td>\n",
       "      <td>-0.000500</td>\n",
       "      <td>-0.005703</td>\n",
       "      <td>2</td>\n",
       "      <td>2009</td>\n",
       "      <td>10</td>\n",
       "      <td>20</td>\n",
       "      <td>11</td>\n",
       "      <td>2</td>\n",
       "      <td>1.195620</td>\n",
       "    </tr>\n",
       "    <tr>\n",
       "      <th>71502</th>\n",
       "      <td>2009-07-01 15:52:00.000000125</td>\n",
       "      <td>6.5</td>\n",
       "      <td>2009-07-01 15:52:00+00:00</td>\n",
       "      <td>0.003682</td>\n",
       "      <td>0.002153</td>\n",
       "      <td>0.002135</td>\n",
       "      <td>0.000165</td>\n",
       "      <td>1</td>\n",
       "      <td>2009</td>\n",
       "      <td>7</td>\n",
       "      <td>1</td>\n",
       "      <td>15</td>\n",
       "      <td>3</td>\n",
       "      <td>0.280100</td>\n",
       "    </tr>\n",
       "    <tr>\n",
       "      <th>80442</th>\n",
       "      <td>2010-08-26 14:59:00.0000001</td>\n",
       "      <td>14.1</td>\n",
       "      <td>2010-08-26 14:59:00+00:00</td>\n",
       "      <td>0.001263</td>\n",
       "      <td>-0.001602</td>\n",
       "      <td>-0.001947</td>\n",
       "      <td>-0.004182</td>\n",
       "      <td>5</td>\n",
       "      <td>2010</td>\n",
       "      <td>8</td>\n",
       "      <td>26</td>\n",
       "      <td>14</td>\n",
       "      <td>4</td>\n",
       "      <td>0.457935</td>\n",
       "    </tr>\n",
       "    <tr>\n",
       "      <th>89335</th>\n",
       "      <td>2010-05-01 19:24:00.000000179</td>\n",
       "      <td>18.9</td>\n",
       "      <td>2010-05-01 19:24:00+00:00</td>\n",
       "      <td>-0.016618</td>\n",
       "      <td>0.036962</td>\n",
       "      <td>-0.031760</td>\n",
       "      <td>0.032135</td>\n",
       "      <td>5</td>\n",
       "      <td>2010</td>\n",
       "      <td>5</td>\n",
       "      <td>1</td>\n",
       "      <td>19</td>\n",
       "      <td>6</td>\n",
       "      <td>1.767195</td>\n",
       "    </tr>\n",
       "    <tr>\n",
       "      <th>98000</th>\n",
       "      <td>2011-10-16 19:39:00.00000069</td>\n",
       "      <td>5.7</td>\n",
       "      <td>2011-10-16 19:39:00+00:00</td>\n",
       "      <td>0.003398</td>\n",
       "      <td>-0.000853</td>\n",
       "      <td>-0.000582</td>\n",
       "      <td>0.001528</td>\n",
       "      <td>2</td>\n",
       "      <td>2011</td>\n",
       "      <td>10</td>\n",
       "      <td>16</td>\n",
       "      <td>19</td>\n",
       "      <td>7</td>\n",
       "      <td>0.515704</td>\n",
       "    </tr>\n",
       "  </tbody>\n",
       "</table>\n",
       "</div>"
      ],
      "text/plain": [
       "                                 key  fare_amount           pickup_datetime  \\\n",
       "1181   2012-10-11 00:21:00.000000140         25.0 2012-10-11 00:21:00+00:00   \n",
       "33889  2009-12-05 22:34:00.000000151          6.5 2009-12-05 22:34:00+00:00   \n",
       "50784   2011-08-11 00:35:00.00000077          8.5 2011-08-11 00:35:00+00:00   \n",
       "66433  2010-07-28 09:22:00.000000254          7.3 2010-07-28 09:22:00+00:00   \n",
       "67590   2009-10-30 08:53:00.00000034         15.3 2009-10-30 08:53:00+00:00   \n",
       "68501   2010-07-11 12:47:00.00000079          6.1 2010-07-11 12:47:00+00:00   \n",
       "70511    2009-10-20 11:51:00.0000009         10.1 2009-10-20 11:51:00+00:00   \n",
       "71502  2009-07-01 15:52:00.000000125          6.5 2009-07-01 15:52:00+00:00   \n",
       "80442    2010-08-26 14:59:00.0000001         14.1 2010-08-26 14:59:00+00:00   \n",
       "89335  2010-05-01 19:24:00.000000179         18.9 2010-05-01 19:24:00+00:00   \n",
       "98000   2011-10-16 19:39:00.00000069          5.7 2011-10-16 19:39:00+00:00   \n",
       "\n",
       "       pickup_longitude  pickup_latitude  dropoff_longitude  dropoff_latitude  \\\n",
       "1181           0.033500        -0.004093           0.017980          0.016852   \n",
       "33889         -0.051833        -0.032060          -0.048933         -0.034800   \n",
       "50784          0.010867         0.115070           0.002200          0.119188   \n",
       "66433         -0.003652         0.002802           0.005768         -0.003795   \n",
       "67590          0.005913        -0.001745           0.020688         -0.009457   \n",
       "68501          0.000775         0.000183           0.006420          0.003535   \n",
       "70511         -0.000227        -0.016452          -0.000500         -0.005703   \n",
       "71502          0.003682         0.002153           0.002135          0.000165   \n",
       "80442          0.001263        -0.001602          -0.001947         -0.004182   \n",
       "89335         -0.016618         0.036962          -0.031760          0.032135   \n",
       "98000          0.003398        -0.000853          -0.000582          0.001528   \n",
       "\n",
       "       passenger_count  year  month  day  hour  day_of_week  distance  \n",
       "1181                 2  2012     10   11     0            4  2.898678  \n",
       "33889                2  2009     12    5    22            6  0.443633  \n",
       "50784                1  2011      8   11     0            4  1.066978  \n",
       "66433                5  2010      7   28     9            3  1.278775  \n",
       "67590                5  2009     10   30     8            5  1.853241  \n",
       "68501                1  2010      7   11    12            7  0.730018  \n",
       "70511                2  2009     10   20    11            2  1.195620  \n",
       "71502                1  2009      7    1    15            3  0.280100  \n",
       "80442                5  2010      8   26    14            4  0.457935  \n",
       "89335                5  2010      5    1    19            6  1.767195  \n",
       "98000                2  2011     10   16    19            7  0.515704  "
      ]
     },
     "execution_count": 168,
     "metadata": {},
     "output_type": "execute_result"
    }
   ],
   "source": [
    "df_fixed[(df_fixed['pickup_longitude'] > -70) & (df_fixed['pickup_longitude'] != 0)]"
   ]
  },
  {
   "cell_type": "code",
   "execution_count": 169,
   "metadata": {},
   "outputs": [
    {
     "data": {
      "text/plain": [
       "(26, 14)"
      ]
     },
     "execution_count": 169,
     "metadata": {},
     "output_type": "execute_result"
    }
   ],
   "source": [
    "df_fixed[(df_fixed['pickup_latitude'] < 40) & (df_fixed['pickup_latitude'] != 0)].shape"
   ]
  },
  {
   "cell_type": "code",
   "execution_count": 170,
   "metadata": {},
   "outputs": [
    {
     "data": {
      "text/html": [
       "<div>\n",
       "<style scoped>\n",
       "    .dataframe tbody tr th:only-of-type {\n",
       "        vertical-align: middle;\n",
       "    }\n",
       "\n",
       "    .dataframe tbody tr th {\n",
       "        vertical-align: top;\n",
       "    }\n",
       "\n",
       "    .dataframe thead th {\n",
       "        text-align: right;\n",
       "    }\n",
       "</style>\n",
       "<table border=\"1\" class=\"dataframe\">\n",
       "  <thead>\n",
       "    <tr style=\"text-align: right;\">\n",
       "      <th></th>\n",
       "      <th>key</th>\n",
       "      <th>fare_amount</th>\n",
       "      <th>pickup_datetime</th>\n",
       "      <th>pickup_longitude</th>\n",
       "      <th>pickup_latitude</th>\n",
       "      <th>dropoff_longitude</th>\n",
       "      <th>dropoff_latitude</th>\n",
       "      <th>passenger_count</th>\n",
       "      <th>year</th>\n",
       "      <th>month</th>\n",
       "      <th>day</th>\n",
       "      <th>hour</th>\n",
       "      <th>day_of_week</th>\n",
       "      <th>distance</th>\n",
       "    </tr>\n",
       "  </thead>\n",
       "  <tbody>\n",
       "    <tr>\n",
       "      <th>1181</th>\n",
       "      <td>2012-10-11 00:21:00.000000140</td>\n",
       "      <td>25.00</td>\n",
       "      <td>2012-10-11 00:21:00+00:00</td>\n",
       "      <td>0.033500</td>\n",
       "      <td>-0.004093</td>\n",
       "      <td>0.017980</td>\n",
       "      <td>0.016852</td>\n",
       "      <td>2</td>\n",
       "      <td>2012</td>\n",
       "      <td>10</td>\n",
       "      <td>11</td>\n",
       "      <td>0</td>\n",
       "      <td>4</td>\n",
       "      <td>2.898678</td>\n",
       "    </tr>\n",
       "    <tr>\n",
       "      <th>8176</th>\n",
       "      <td>2011-04-08 12:58:26.0000005</td>\n",
       "      <td>10.50</td>\n",
       "      <td>2011-04-08 12:58:26+00:00</td>\n",
       "      <td>-73.967350</td>\n",
       "      <td>39.627358</td>\n",
       "      <td>-73.959343</td>\n",
       "      <td>39.625547</td>\n",
       "      <td>1</td>\n",
       "      <td>2011</td>\n",
       "      <td>4</td>\n",
       "      <td>8</td>\n",
       "      <td>12</td>\n",
       "      <td>5</td>\n",
       "      <td>0.714716</td>\n",
       "    </tr>\n",
       "    <tr>\n",
       "      <th>8334</th>\n",
       "      <td>2011-02-21 12:16:33.0000003</td>\n",
       "      <td>2.90</td>\n",
       "      <td>2011-02-21 12:16:33+00:00</td>\n",
       "      <td>-73.967160</td>\n",
       "      <td>39.617851</td>\n",
       "      <td>-73.976375</td>\n",
       "      <td>39.605025</td>\n",
       "      <td>1</td>\n",
       "      <td>2011</td>\n",
       "      <td>2</td>\n",
       "      <td>21</td>\n",
       "      <td>12</td>\n",
       "      <td>1</td>\n",
       "      <td>1.630049</td>\n",
       "    </tr>\n",
       "    <tr>\n",
       "      <th>8584</th>\n",
       "      <td>2011-05-24 13:46:23.0000003</td>\n",
       "      <td>8.10</td>\n",
       "      <td>2011-05-24 13:46:23+00:00</td>\n",
       "      <td>-73.964460</td>\n",
       "      <td>39.616075</td>\n",
       "      <td>-73.946669</td>\n",
       "      <td>39.604972</td>\n",
       "      <td>1</td>\n",
       "      <td>2011</td>\n",
       "      <td>5</td>\n",
       "      <td>24</td>\n",
       "      <td>13</td>\n",
       "      <td>2</td>\n",
       "      <td>1.961366</td>\n",
       "    </tr>\n",
       "    <tr>\n",
       "      <th>10710</th>\n",
       "      <td>2011-02-11 21:46:09.0000001</td>\n",
       "      <td>3.70</td>\n",
       "      <td>2011-02-11 21:46:09+00:00</td>\n",
       "      <td>-73.955411</td>\n",
       "      <td>39.604164</td>\n",
       "      <td>-73.955647</td>\n",
       "      <td>40.772837</td>\n",
       "      <td>1</td>\n",
       "      <td>2011</td>\n",
       "      <td>2</td>\n",
       "      <td>11</td>\n",
       "      <td>21</td>\n",
       "      <td>5</td>\n",
       "      <td>129.950483</td>\n",
       "    </tr>\n",
       "    <tr>\n",
       "      <th>11619</th>\n",
       "      <td>2011-05-27 21:47:44.0000002</td>\n",
       "      <td>11.30</td>\n",
       "      <td>2011-05-27 21:47:44+00:00</td>\n",
       "      <td>-73.945106</td>\n",
       "      <td>39.603178</td>\n",
       "      <td>-73.976636</td>\n",
       "      <td>40.749643</td>\n",
       "      <td>1</td>\n",
       "      <td>2011</td>\n",
       "      <td>5</td>\n",
       "      <td>27</td>\n",
       "      <td>21</td>\n",
       "      <td>5</td>\n",
       "      <td>127.509261</td>\n",
       "    </tr>\n",
       "    <tr>\n",
       "      <th>29654</th>\n",
       "      <td>2011-02-10 02:22:52.0000001</td>\n",
       "      <td>7.70</td>\n",
       "      <td>2011-02-10 02:22:52+00:00</td>\n",
       "      <td>-73.964531</td>\n",
       "      <td>39.631717</td>\n",
       "      <td>-73.982297</td>\n",
       "      <td>40.775564</td>\n",
       "      <td>1</td>\n",
       "      <td>2011</td>\n",
       "      <td>2</td>\n",
       "      <td>10</td>\n",
       "      <td>2</td>\n",
       "      <td>4</td>\n",
       "      <td>127.198854</td>\n",
       "    </tr>\n",
       "    <tr>\n",
       "      <th>30950</th>\n",
       "      <td>2011-04-25 08:57:38.0000005</td>\n",
       "      <td>8.50</td>\n",
       "      <td>2011-04-25 08:57:38+00:00</td>\n",
       "      <td>-73.954724</td>\n",
       "      <td>39.613492</td>\n",
       "      <td>-73.954297</td>\n",
       "      <td>40.767204</td>\n",
       "      <td>1</td>\n",
       "      <td>2011</td>\n",
       "      <td>4</td>\n",
       "      <td>25</td>\n",
       "      <td>8</td>\n",
       "      <td>1</td>\n",
       "      <td>128.286961</td>\n",
       "    </tr>\n",
       "    <tr>\n",
       "      <th>33889</th>\n",
       "      <td>2009-12-05 22:34:00.000000151</td>\n",
       "      <td>6.50</td>\n",
       "      <td>2009-12-05 22:34:00+00:00</td>\n",
       "      <td>-0.051833</td>\n",
       "      <td>-0.032060</td>\n",
       "      <td>-0.048933</td>\n",
       "      <td>-0.034800</td>\n",
       "      <td>2</td>\n",
       "      <td>2009</td>\n",
       "      <td>12</td>\n",
       "      <td>5</td>\n",
       "      <td>22</td>\n",
       "      <td>6</td>\n",
       "      <td>0.443633</td>\n",
       "    </tr>\n",
       "    <tr>\n",
       "      <th>37038</th>\n",
       "      <td>2011-03-10 16:05:27.0000001</td>\n",
       "      <td>8.10</td>\n",
       "      <td>2011-03-10 16:05:27+00:00</td>\n",
       "      <td>-73.949891</td>\n",
       "      <td>39.620362</td>\n",
       "      <td>-73.954676</td>\n",
       "      <td>40.770738</td>\n",
       "      <td>1</td>\n",
       "      <td>2011</td>\n",
       "      <td>3</td>\n",
       "      <td>10</td>\n",
       "      <td>16</td>\n",
       "      <td>4</td>\n",
       "      <td>127.916599</td>\n",
       "    </tr>\n",
       "    <tr>\n",
       "      <th>43519</th>\n",
       "      <td>2011-03-24 18:33:44.00000010</td>\n",
       "      <td>14.90</td>\n",
       "      <td>2011-03-24 18:33:44+00:00</td>\n",
       "      <td>-73.958490</td>\n",
       "      <td>39.605743</td>\n",
       "      <td>-73.941292</td>\n",
       "      <td>39.663073</td>\n",
       "      <td>1</td>\n",
       "      <td>2011</td>\n",
       "      <td>3</td>\n",
       "      <td>24</td>\n",
       "      <td>18</td>\n",
       "      <td>4</td>\n",
       "      <td>6.542762</td>\n",
       "    </tr>\n",
       "    <tr>\n",
       "      <th>44777</th>\n",
       "      <td>2011-03-28 12:08:51.0000002</td>\n",
       "      <td>7.70</td>\n",
       "      <td>2011-03-28 12:08:51+00:00</td>\n",
       "      <td>-73.978483</td>\n",
       "      <td>39.607752</td>\n",
       "      <td>-73.980734</td>\n",
       "      <td>40.751096</td>\n",
       "      <td>1</td>\n",
       "      <td>2011</td>\n",
       "      <td>3</td>\n",
       "      <td>28</td>\n",
       "      <td>12</td>\n",
       "      <td>1</td>\n",
       "      <td>127.134200</td>\n",
       "    </tr>\n",
       "    <tr>\n",
       "      <th>45139</th>\n",
       "      <td>2015-06-04 14:24:03.0000005</td>\n",
       "      <td>57.54</td>\n",
       "      <td>2015-06-04 14:24:03+00:00</td>\n",
       "      <td>-70.140793</td>\n",
       "      <td>38.754215</td>\n",
       "      <td>-73.789780</td>\n",
       "      <td>40.646969</td>\n",
       "      <td>1</td>\n",
       "      <td>2015</td>\n",
       "      <td>6</td>\n",
       "      <td>4</td>\n",
       "      <td>14</td>\n",
       "      <td>4</td>\n",
       "      <td>376.445536</td>\n",
       "    </tr>\n",
       "    <tr>\n",
       "      <th>50784</th>\n",
       "      <td>2011-08-11 00:35:00.00000077</td>\n",
       "      <td>8.50</td>\n",
       "      <td>2011-08-11 00:35:00+00:00</td>\n",
       "      <td>0.010867</td>\n",
       "      <td>0.115070</td>\n",
       "      <td>0.002200</td>\n",
       "      <td>0.119188</td>\n",
       "      <td>1</td>\n",
       "      <td>2011</td>\n",
       "      <td>8</td>\n",
       "      <td>11</td>\n",
       "      <td>0</td>\n",
       "      <td>4</td>\n",
       "      <td>1.066978</td>\n",
       "    </tr>\n",
       "    <tr>\n",
       "      <th>54547</th>\n",
       "      <td>2011-03-04 08:41:15.0000004</td>\n",
       "      <td>14.90</td>\n",
       "      <td>2011-03-04 08:41:15+00:00</td>\n",
       "      <td>-73.955955</td>\n",
       "      <td>39.608398</td>\n",
       "      <td>-73.997245</td>\n",
       "      <td>40.739293</td>\n",
       "      <td>1</td>\n",
       "      <td>2011</td>\n",
       "      <td>3</td>\n",
       "      <td>4</td>\n",
       "      <td>8</td>\n",
       "      <td>5</td>\n",
       "      <td>125.798698</td>\n",
       "    </tr>\n",
       "    <tr>\n",
       "      <th>66433</th>\n",
       "      <td>2010-07-28 09:22:00.000000254</td>\n",
       "      <td>7.30</td>\n",
       "      <td>2010-07-28 09:22:00+00:00</td>\n",
       "      <td>-0.003652</td>\n",
       "      <td>0.002802</td>\n",
       "      <td>0.005768</td>\n",
       "      <td>-0.003795</td>\n",
       "      <td>5</td>\n",
       "      <td>2010</td>\n",
       "      <td>7</td>\n",
       "      <td>28</td>\n",
       "      <td>9</td>\n",
       "      <td>3</td>\n",
       "      <td>1.278775</td>\n",
       "    </tr>\n",
       "    <tr>\n",
       "      <th>67590</th>\n",
       "      <td>2009-10-30 08:53:00.00000034</td>\n",
       "      <td>15.30</td>\n",
       "      <td>2009-10-30 08:53:00+00:00</td>\n",
       "      <td>0.005913</td>\n",
       "      <td>-0.001745</td>\n",
       "      <td>0.020688</td>\n",
       "      <td>-0.009457</td>\n",
       "      <td>5</td>\n",
       "      <td>2009</td>\n",
       "      <td>10</td>\n",
       "      <td>30</td>\n",
       "      <td>8</td>\n",
       "      <td>5</td>\n",
       "      <td>1.853241</td>\n",
       "    </tr>\n",
       "    <tr>\n",
       "      <th>68501</th>\n",
       "      <td>2010-07-11 12:47:00.00000079</td>\n",
       "      <td>6.10</td>\n",
       "      <td>2010-07-11 12:47:00+00:00</td>\n",
       "      <td>0.000775</td>\n",
       "      <td>0.000183</td>\n",
       "      <td>0.006420</td>\n",
       "      <td>0.003535</td>\n",
       "      <td>1</td>\n",
       "      <td>2010</td>\n",
       "      <td>7</td>\n",
       "      <td>11</td>\n",
       "      <td>12</td>\n",
       "      <td>7</td>\n",
       "      <td>0.730018</td>\n",
       "    </tr>\n",
       "    <tr>\n",
       "      <th>70511</th>\n",
       "      <td>2009-10-20 11:51:00.0000009</td>\n",
       "      <td>10.10</td>\n",
       "      <td>2009-10-20 11:51:00+00:00</td>\n",
       "      <td>-0.000227</td>\n",
       "      <td>-0.016452</td>\n",
       "      <td>-0.000500</td>\n",
       "      <td>-0.005703</td>\n",
       "      <td>2</td>\n",
       "      <td>2009</td>\n",
       "      <td>10</td>\n",
       "      <td>20</td>\n",
       "      <td>11</td>\n",
       "      <td>2</td>\n",
       "      <td>1.195620</td>\n",
       "    </tr>\n",
       "    <tr>\n",
       "      <th>71502</th>\n",
       "      <td>2009-07-01 15:52:00.000000125</td>\n",
       "      <td>6.50</td>\n",
       "      <td>2009-07-01 15:52:00+00:00</td>\n",
       "      <td>0.003682</td>\n",
       "      <td>0.002153</td>\n",
       "      <td>0.002135</td>\n",
       "      <td>0.000165</td>\n",
       "      <td>1</td>\n",
       "      <td>2009</td>\n",
       "      <td>7</td>\n",
       "      <td>1</td>\n",
       "      <td>15</td>\n",
       "      <td>3</td>\n",
       "      <td>0.280100</td>\n",
       "    </tr>\n",
       "    <tr>\n",
       "      <th>80442</th>\n",
       "      <td>2010-08-26 14:59:00.0000001</td>\n",
       "      <td>14.10</td>\n",
       "      <td>2010-08-26 14:59:00+00:00</td>\n",
       "      <td>0.001263</td>\n",
       "      <td>-0.001602</td>\n",
       "      <td>-0.001947</td>\n",
       "      <td>-0.004182</td>\n",
       "      <td>5</td>\n",
       "      <td>2010</td>\n",
       "      <td>8</td>\n",
       "      <td>26</td>\n",
       "      <td>14</td>\n",
       "      <td>4</td>\n",
       "      <td>0.457935</td>\n",
       "    </tr>\n",
       "    <tr>\n",
       "      <th>81681</th>\n",
       "      <td>2011-05-31 11:41:44.0000005</td>\n",
       "      <td>20.10</td>\n",
       "      <td>2011-05-31 11:41:44+00:00</td>\n",
       "      <td>-73.971874</td>\n",
       "      <td>39.616524</td>\n",
       "      <td>-73.984927</td>\n",
       "      <td>40.742450</td>\n",
       "      <td>1</td>\n",
       "      <td>2011</td>\n",
       "      <td>5</td>\n",
       "      <td>31</td>\n",
       "      <td>11</td>\n",
       "      <td>2</td>\n",
       "      <td>125.202176</td>\n",
       "    </tr>\n",
       "    <tr>\n",
       "      <th>81857</th>\n",
       "      <td>2011-10-16 01:17:00.000000122</td>\n",
       "      <td>23.90</td>\n",
       "      <td>2011-10-16 01:17:00+00:00</td>\n",
       "      <td>-74.945938</td>\n",
       "      <td>39.993120</td>\n",
       "      <td>-74.945938</td>\n",
       "      <td>39.993120</td>\n",
       "      <td>1</td>\n",
       "      <td>2011</td>\n",
       "      <td>10</td>\n",
       "      <td>16</td>\n",
       "      <td>1</td>\n",
       "      <td>7</td>\n",
       "      <td>0.000000</td>\n",
       "    </tr>\n",
       "    <tr>\n",
       "      <th>89335</th>\n",
       "      <td>2010-05-01 19:24:00.000000179</td>\n",
       "      <td>18.90</td>\n",
       "      <td>2010-05-01 19:24:00+00:00</td>\n",
       "      <td>-0.016618</td>\n",
       "      <td>0.036962</td>\n",
       "      <td>-0.031760</td>\n",
       "      <td>0.032135</td>\n",
       "      <td>5</td>\n",
       "      <td>2010</td>\n",
       "      <td>5</td>\n",
       "      <td>1</td>\n",
       "      <td>19</td>\n",
       "      <td>6</td>\n",
       "      <td>1.767195</td>\n",
       "    </tr>\n",
       "    <tr>\n",
       "      <th>91516</th>\n",
       "      <td>2011-02-15 11:33:44.0000003</td>\n",
       "      <td>9.70</td>\n",
       "      <td>2011-02-15 11:33:44+00:00</td>\n",
       "      <td>-73.981136</td>\n",
       "      <td>39.608649</td>\n",
       "      <td>-73.962778</td>\n",
       "      <td>40.766702</td>\n",
       "      <td>1</td>\n",
       "      <td>2011</td>\n",
       "      <td>2</td>\n",
       "      <td>15</td>\n",
       "      <td>11</td>\n",
       "      <td>2</td>\n",
       "      <td>128.779099</td>\n",
       "    </tr>\n",
       "    <tr>\n",
       "      <th>98000</th>\n",
       "      <td>2011-10-16 19:39:00.00000069</td>\n",
       "      <td>5.70</td>\n",
       "      <td>2011-10-16 19:39:00+00:00</td>\n",
       "      <td>0.003398</td>\n",
       "      <td>-0.000853</td>\n",
       "      <td>-0.000582</td>\n",
       "      <td>0.001528</td>\n",
       "      <td>2</td>\n",
       "      <td>2011</td>\n",
       "      <td>10</td>\n",
       "      <td>16</td>\n",
       "      <td>19</td>\n",
       "      <td>7</td>\n",
       "      <td>0.515704</td>\n",
       "    </tr>\n",
       "  </tbody>\n",
       "</table>\n",
       "</div>"
      ],
      "text/plain": [
       "                                 key  fare_amount           pickup_datetime  \\\n",
       "1181   2012-10-11 00:21:00.000000140        25.00 2012-10-11 00:21:00+00:00   \n",
       "8176     2011-04-08 12:58:26.0000005        10.50 2011-04-08 12:58:26+00:00   \n",
       "8334     2011-02-21 12:16:33.0000003         2.90 2011-02-21 12:16:33+00:00   \n",
       "8584     2011-05-24 13:46:23.0000003         8.10 2011-05-24 13:46:23+00:00   \n",
       "10710    2011-02-11 21:46:09.0000001         3.70 2011-02-11 21:46:09+00:00   \n",
       "11619    2011-05-27 21:47:44.0000002        11.30 2011-05-27 21:47:44+00:00   \n",
       "29654    2011-02-10 02:22:52.0000001         7.70 2011-02-10 02:22:52+00:00   \n",
       "30950    2011-04-25 08:57:38.0000005         8.50 2011-04-25 08:57:38+00:00   \n",
       "33889  2009-12-05 22:34:00.000000151         6.50 2009-12-05 22:34:00+00:00   \n",
       "37038    2011-03-10 16:05:27.0000001         8.10 2011-03-10 16:05:27+00:00   \n",
       "43519   2011-03-24 18:33:44.00000010        14.90 2011-03-24 18:33:44+00:00   \n",
       "44777    2011-03-28 12:08:51.0000002         7.70 2011-03-28 12:08:51+00:00   \n",
       "45139    2015-06-04 14:24:03.0000005        57.54 2015-06-04 14:24:03+00:00   \n",
       "50784   2011-08-11 00:35:00.00000077         8.50 2011-08-11 00:35:00+00:00   \n",
       "54547    2011-03-04 08:41:15.0000004        14.90 2011-03-04 08:41:15+00:00   \n",
       "66433  2010-07-28 09:22:00.000000254         7.30 2010-07-28 09:22:00+00:00   \n",
       "67590   2009-10-30 08:53:00.00000034        15.30 2009-10-30 08:53:00+00:00   \n",
       "68501   2010-07-11 12:47:00.00000079         6.10 2010-07-11 12:47:00+00:00   \n",
       "70511    2009-10-20 11:51:00.0000009        10.10 2009-10-20 11:51:00+00:00   \n",
       "71502  2009-07-01 15:52:00.000000125         6.50 2009-07-01 15:52:00+00:00   \n",
       "80442    2010-08-26 14:59:00.0000001        14.10 2010-08-26 14:59:00+00:00   \n",
       "81681    2011-05-31 11:41:44.0000005        20.10 2011-05-31 11:41:44+00:00   \n",
       "81857  2011-10-16 01:17:00.000000122        23.90 2011-10-16 01:17:00+00:00   \n",
       "89335  2010-05-01 19:24:00.000000179        18.90 2010-05-01 19:24:00+00:00   \n",
       "91516    2011-02-15 11:33:44.0000003         9.70 2011-02-15 11:33:44+00:00   \n",
       "98000   2011-10-16 19:39:00.00000069         5.70 2011-10-16 19:39:00+00:00   \n",
       "\n",
       "       pickup_longitude  pickup_latitude  dropoff_longitude  dropoff_latitude  \\\n",
       "1181           0.033500        -0.004093           0.017980          0.016852   \n",
       "8176         -73.967350        39.627358         -73.959343         39.625547   \n",
       "8334         -73.967160        39.617851         -73.976375         39.605025   \n",
       "8584         -73.964460        39.616075         -73.946669         39.604972   \n",
       "10710        -73.955411        39.604164         -73.955647         40.772837   \n",
       "11619        -73.945106        39.603178         -73.976636         40.749643   \n",
       "29654        -73.964531        39.631717         -73.982297         40.775564   \n",
       "30950        -73.954724        39.613492         -73.954297         40.767204   \n",
       "33889         -0.051833        -0.032060          -0.048933         -0.034800   \n",
       "37038        -73.949891        39.620362         -73.954676         40.770738   \n",
       "43519        -73.958490        39.605743         -73.941292         39.663073   \n",
       "44777        -73.978483        39.607752         -73.980734         40.751096   \n",
       "45139        -70.140793        38.754215         -73.789780         40.646969   \n",
       "50784          0.010867         0.115070           0.002200          0.119188   \n",
       "54547        -73.955955        39.608398         -73.997245         40.739293   \n",
       "66433         -0.003652         0.002802           0.005768         -0.003795   \n",
       "67590          0.005913        -0.001745           0.020688         -0.009457   \n",
       "68501          0.000775         0.000183           0.006420          0.003535   \n",
       "70511         -0.000227        -0.016452          -0.000500         -0.005703   \n",
       "71502          0.003682         0.002153           0.002135          0.000165   \n",
       "80442          0.001263        -0.001602          -0.001947         -0.004182   \n",
       "81681        -73.971874        39.616524         -73.984927         40.742450   \n",
       "81857        -74.945938        39.993120         -74.945938         39.993120   \n",
       "89335         -0.016618         0.036962          -0.031760          0.032135   \n",
       "91516        -73.981136        39.608649         -73.962778         40.766702   \n",
       "98000          0.003398        -0.000853          -0.000582          0.001528   \n",
       "\n",
       "       passenger_count  year  month  day  hour  day_of_week    distance  \n",
       "1181                 2  2012     10   11     0            4    2.898678  \n",
       "8176                 1  2011      4    8    12            5    0.714716  \n",
       "8334                 1  2011      2   21    12            1    1.630049  \n",
       "8584                 1  2011      5   24    13            2    1.961366  \n",
       "10710                1  2011      2   11    21            5  129.950483  \n",
       "11619                1  2011      5   27    21            5  127.509261  \n",
       "29654                1  2011      2   10     2            4  127.198854  \n",
       "30950                1  2011      4   25     8            1  128.286961  \n",
       "33889                2  2009     12    5    22            6    0.443633  \n",
       "37038                1  2011      3   10    16            4  127.916599  \n",
       "43519                1  2011      3   24    18            4    6.542762  \n",
       "44777                1  2011      3   28    12            1  127.134200  \n",
       "45139                1  2015      6    4    14            4  376.445536  \n",
       "50784                1  2011      8   11     0            4    1.066978  \n",
       "54547                1  2011      3    4     8            5  125.798698  \n",
       "66433                5  2010      7   28     9            3    1.278775  \n",
       "67590                5  2009     10   30     8            5    1.853241  \n",
       "68501                1  2010      7   11    12            7    0.730018  \n",
       "70511                2  2009     10   20    11            2    1.195620  \n",
       "71502                1  2009      7    1    15            3    0.280100  \n",
       "80442                5  2010      8   26    14            4    0.457935  \n",
       "81681                1  2011      5   31    11            2  125.202176  \n",
       "81857                1  2011     10   16     1            7    0.000000  \n",
       "89335                5  2010      5    1    19            6    1.767195  \n",
       "91516                1  2011      2   15    11            2  128.779099  \n",
       "98000                2  2011     10   16    19            7    0.515704  "
      ]
     },
     "execution_count": 170,
     "metadata": {},
     "output_type": "execute_result"
    }
   ],
   "source": [
    "df_fixed[(df_fixed['pickup_latitude'] < 40) & (df_fixed['pickup_latitude'] != 0)]"
   ]
  },
  {
   "cell_type": "code",
   "execution_count": 171,
   "metadata": {},
   "outputs": [],
   "source": [
    "def replace_near_zeros_with_mean(df, cols, low=-0.1, high=0.1):\n",
    "    for col in cols:\n",
    "        mean_value = df[(df[col] < low) | (df[col] > high)][col].mean()\n",
    "        df.loc[(df[col] >= low) & (df[col] <= high), col] = mean_value\n",
    "\n",
    "    return df\n",
    "\n",
    "df_fixed = replace_near_zeros_with_mean(df, ['pickup_longitude', 'pickup_latitude', 'dropoff_longitude', 'dropoff_latitude'], -0.2, 0.2)"
   ]
  },
  {
   "cell_type": "code",
   "execution_count": 172,
   "metadata": {},
   "outputs": [
    {
     "name": "stdout",
     "output_type": "stream",
     "text": [
      "Number of zeros in pickup_longitude: 0\n",
      "Number of zeros in pickup_latitude: 0\n",
      "Number of zeros in dropoff_longitude: 0\n",
      "Number of zeros in dropoff_latitude: 0\n"
     ]
    }
   ],
   "source": [
    "cols = ['pickup_longitude', 'pickup_latitude', 'dropoff_longitude', 'dropoff_latitude']\n",
    "for col in cols:\n",
    "    zero_count = (df_fixed[col] == 0).sum()\n",
    "    print(f'Number of zeros in {col}: {zero_count}')"
   ]
  },
  {
   "cell_type": "code",
   "execution_count": 173,
   "metadata": {},
   "outputs": [
    {
     "data": {
      "text/html": [
       "<div>\n",
       "<style scoped>\n",
       "    .dataframe tbody tr th:only-of-type {\n",
       "        vertical-align: middle;\n",
       "    }\n",
       "\n",
       "    .dataframe tbody tr th {\n",
       "        vertical-align: top;\n",
       "    }\n",
       "\n",
       "    .dataframe thead th {\n",
       "        text-align: right;\n",
       "    }\n",
       "</style>\n",
       "<table border=\"1\" class=\"dataframe\">\n",
       "  <thead>\n",
       "    <tr style=\"text-align: right;\">\n",
       "      <th></th>\n",
       "      <th>key</th>\n",
       "      <th>fare_amount</th>\n",
       "      <th>pickup_datetime</th>\n",
       "      <th>pickup_longitude</th>\n",
       "      <th>pickup_latitude</th>\n",
       "      <th>dropoff_longitude</th>\n",
       "      <th>dropoff_latitude</th>\n",
       "      <th>passenger_count</th>\n",
       "      <th>year</th>\n",
       "      <th>month</th>\n",
       "      <th>day</th>\n",
       "      <th>hour</th>\n",
       "      <th>day_of_week</th>\n",
       "      <th>distance</th>\n",
       "    </tr>\n",
       "  </thead>\n",
       "  <tbody>\n",
       "  </tbody>\n",
       "</table>\n",
       "</div>"
      ],
      "text/plain": [
       "Empty DataFrame\n",
       "Columns: [key, fare_amount, pickup_datetime, pickup_longitude, pickup_latitude, dropoff_longitude, dropoff_latitude, passenger_count, year, month, day, hour, day_of_week, distance]\n",
       "Index: []"
      ]
     },
     "execution_count": 173,
     "metadata": {},
     "output_type": "execute_result"
    }
   ],
   "source": [
    "df_fixed[(df_fixed['pickup_longitude'] > -70) & (df_fixed['pickup_longitude'] != 0)]"
   ]
  },
  {
   "cell_type": "code",
   "execution_count": 174,
   "metadata": {},
   "outputs": [
    {
     "data": {
      "text/html": [
       "<div>\n",
       "<style scoped>\n",
       "    .dataframe tbody tr th:only-of-type {\n",
       "        vertical-align: middle;\n",
       "    }\n",
       "\n",
       "    .dataframe tbody tr th {\n",
       "        vertical-align: top;\n",
       "    }\n",
       "\n",
       "    .dataframe thead th {\n",
       "        text-align: right;\n",
       "    }\n",
       "</style>\n",
       "<table border=\"1\" class=\"dataframe\">\n",
       "  <thead>\n",
       "    <tr style=\"text-align: right;\">\n",
       "      <th></th>\n",
       "      <th>key</th>\n",
       "      <th>fare_amount</th>\n",
       "      <th>pickup_datetime</th>\n",
       "      <th>pickup_longitude</th>\n",
       "      <th>pickup_latitude</th>\n",
       "      <th>dropoff_longitude</th>\n",
       "      <th>dropoff_latitude</th>\n",
       "      <th>passenger_count</th>\n",
       "      <th>year</th>\n",
       "      <th>month</th>\n",
       "      <th>day</th>\n",
       "      <th>hour</th>\n",
       "      <th>day_of_week</th>\n",
       "      <th>distance</th>\n",
       "    </tr>\n",
       "  </thead>\n",
       "  <tbody>\n",
       "    <tr>\n",
       "      <th>8176</th>\n",
       "      <td>2011-04-08 12:58:26.0000005</td>\n",
       "      <td>10.50</td>\n",
       "      <td>2011-04-08 12:58:26+00:00</td>\n",
       "      <td>-73.967350</td>\n",
       "      <td>39.627358</td>\n",
       "      <td>-73.959343</td>\n",
       "      <td>39.625547</td>\n",
       "      <td>1</td>\n",
       "      <td>2011</td>\n",
       "      <td>4</td>\n",
       "      <td>8</td>\n",
       "      <td>12</td>\n",
       "      <td>5</td>\n",
       "      <td>0.714716</td>\n",
       "    </tr>\n",
       "    <tr>\n",
       "      <th>8334</th>\n",
       "      <td>2011-02-21 12:16:33.0000003</td>\n",
       "      <td>2.90</td>\n",
       "      <td>2011-02-21 12:16:33+00:00</td>\n",
       "      <td>-73.967160</td>\n",
       "      <td>39.617851</td>\n",
       "      <td>-73.976375</td>\n",
       "      <td>39.605025</td>\n",
       "      <td>1</td>\n",
       "      <td>2011</td>\n",
       "      <td>2</td>\n",
       "      <td>21</td>\n",
       "      <td>12</td>\n",
       "      <td>1</td>\n",
       "      <td>1.630049</td>\n",
       "    </tr>\n",
       "    <tr>\n",
       "      <th>8584</th>\n",
       "      <td>2011-05-24 13:46:23.0000003</td>\n",
       "      <td>8.10</td>\n",
       "      <td>2011-05-24 13:46:23+00:00</td>\n",
       "      <td>-73.964460</td>\n",
       "      <td>39.616075</td>\n",
       "      <td>-73.946669</td>\n",
       "      <td>39.604972</td>\n",
       "      <td>1</td>\n",
       "      <td>2011</td>\n",
       "      <td>5</td>\n",
       "      <td>24</td>\n",
       "      <td>13</td>\n",
       "      <td>2</td>\n",
       "      <td>1.961366</td>\n",
       "    </tr>\n",
       "    <tr>\n",
       "      <th>10710</th>\n",
       "      <td>2011-02-11 21:46:09.0000001</td>\n",
       "      <td>3.70</td>\n",
       "      <td>2011-02-11 21:46:09+00:00</td>\n",
       "      <td>-73.955411</td>\n",
       "      <td>39.604164</td>\n",
       "      <td>-73.955647</td>\n",
       "      <td>40.772837</td>\n",
       "      <td>1</td>\n",
       "      <td>2011</td>\n",
       "      <td>2</td>\n",
       "      <td>11</td>\n",
       "      <td>21</td>\n",
       "      <td>5</td>\n",
       "      <td>129.950483</td>\n",
       "    </tr>\n",
       "    <tr>\n",
       "      <th>11619</th>\n",
       "      <td>2011-05-27 21:47:44.0000002</td>\n",
       "      <td>11.30</td>\n",
       "      <td>2011-05-27 21:47:44+00:00</td>\n",
       "      <td>-73.945106</td>\n",
       "      <td>39.603178</td>\n",
       "      <td>-73.976636</td>\n",
       "      <td>40.749643</td>\n",
       "      <td>1</td>\n",
       "      <td>2011</td>\n",
       "      <td>5</td>\n",
       "      <td>27</td>\n",
       "      <td>21</td>\n",
       "      <td>5</td>\n",
       "      <td>127.509261</td>\n",
       "    </tr>\n",
       "    <tr>\n",
       "      <th>29654</th>\n",
       "      <td>2011-02-10 02:22:52.0000001</td>\n",
       "      <td>7.70</td>\n",
       "      <td>2011-02-10 02:22:52+00:00</td>\n",
       "      <td>-73.964531</td>\n",
       "      <td>39.631717</td>\n",
       "      <td>-73.982297</td>\n",
       "      <td>40.775564</td>\n",
       "      <td>1</td>\n",
       "      <td>2011</td>\n",
       "      <td>2</td>\n",
       "      <td>10</td>\n",
       "      <td>2</td>\n",
       "      <td>4</td>\n",
       "      <td>127.198854</td>\n",
       "    </tr>\n",
       "    <tr>\n",
       "      <th>30950</th>\n",
       "      <td>2011-04-25 08:57:38.0000005</td>\n",
       "      <td>8.50</td>\n",
       "      <td>2011-04-25 08:57:38+00:00</td>\n",
       "      <td>-73.954724</td>\n",
       "      <td>39.613492</td>\n",
       "      <td>-73.954297</td>\n",
       "      <td>40.767204</td>\n",
       "      <td>1</td>\n",
       "      <td>2011</td>\n",
       "      <td>4</td>\n",
       "      <td>25</td>\n",
       "      <td>8</td>\n",
       "      <td>1</td>\n",
       "      <td>128.286961</td>\n",
       "    </tr>\n",
       "    <tr>\n",
       "      <th>37038</th>\n",
       "      <td>2011-03-10 16:05:27.0000001</td>\n",
       "      <td>8.10</td>\n",
       "      <td>2011-03-10 16:05:27+00:00</td>\n",
       "      <td>-73.949891</td>\n",
       "      <td>39.620362</td>\n",
       "      <td>-73.954676</td>\n",
       "      <td>40.770738</td>\n",
       "      <td>1</td>\n",
       "      <td>2011</td>\n",
       "      <td>3</td>\n",
       "      <td>10</td>\n",
       "      <td>16</td>\n",
       "      <td>4</td>\n",
       "      <td>127.916599</td>\n",
       "    </tr>\n",
       "    <tr>\n",
       "      <th>43519</th>\n",
       "      <td>2011-03-24 18:33:44.00000010</td>\n",
       "      <td>14.90</td>\n",
       "      <td>2011-03-24 18:33:44+00:00</td>\n",
       "      <td>-73.958490</td>\n",
       "      <td>39.605743</td>\n",
       "      <td>-73.941292</td>\n",
       "      <td>39.663073</td>\n",
       "      <td>1</td>\n",
       "      <td>2011</td>\n",
       "      <td>3</td>\n",
       "      <td>24</td>\n",
       "      <td>18</td>\n",
       "      <td>4</td>\n",
       "      <td>6.542762</td>\n",
       "    </tr>\n",
       "    <tr>\n",
       "      <th>44777</th>\n",
       "      <td>2011-03-28 12:08:51.0000002</td>\n",
       "      <td>7.70</td>\n",
       "      <td>2011-03-28 12:08:51+00:00</td>\n",
       "      <td>-73.978483</td>\n",
       "      <td>39.607752</td>\n",
       "      <td>-73.980734</td>\n",
       "      <td>40.751096</td>\n",
       "      <td>1</td>\n",
       "      <td>2011</td>\n",
       "      <td>3</td>\n",
       "      <td>28</td>\n",
       "      <td>12</td>\n",
       "      <td>1</td>\n",
       "      <td>127.134200</td>\n",
       "    </tr>\n",
       "    <tr>\n",
       "      <th>45139</th>\n",
       "      <td>2015-06-04 14:24:03.0000005</td>\n",
       "      <td>57.54</td>\n",
       "      <td>2015-06-04 14:24:03+00:00</td>\n",
       "      <td>-70.140793</td>\n",
       "      <td>38.754215</td>\n",
       "      <td>-73.789780</td>\n",
       "      <td>40.646969</td>\n",
       "      <td>1</td>\n",
       "      <td>2015</td>\n",
       "      <td>6</td>\n",
       "      <td>4</td>\n",
       "      <td>14</td>\n",
       "      <td>4</td>\n",
       "      <td>376.445536</td>\n",
       "    </tr>\n",
       "    <tr>\n",
       "      <th>54547</th>\n",
       "      <td>2011-03-04 08:41:15.0000004</td>\n",
       "      <td>14.90</td>\n",
       "      <td>2011-03-04 08:41:15+00:00</td>\n",
       "      <td>-73.955955</td>\n",
       "      <td>39.608398</td>\n",
       "      <td>-73.997245</td>\n",
       "      <td>40.739293</td>\n",
       "      <td>1</td>\n",
       "      <td>2011</td>\n",
       "      <td>3</td>\n",
       "      <td>4</td>\n",
       "      <td>8</td>\n",
       "      <td>5</td>\n",
       "      <td>125.798698</td>\n",
       "    </tr>\n",
       "    <tr>\n",
       "      <th>81681</th>\n",
       "      <td>2011-05-31 11:41:44.0000005</td>\n",
       "      <td>20.10</td>\n",
       "      <td>2011-05-31 11:41:44+00:00</td>\n",
       "      <td>-73.971874</td>\n",
       "      <td>39.616524</td>\n",
       "      <td>-73.984927</td>\n",
       "      <td>40.742450</td>\n",
       "      <td>1</td>\n",
       "      <td>2011</td>\n",
       "      <td>5</td>\n",
       "      <td>31</td>\n",
       "      <td>11</td>\n",
       "      <td>2</td>\n",
       "      <td>125.202176</td>\n",
       "    </tr>\n",
       "    <tr>\n",
       "      <th>81857</th>\n",
       "      <td>2011-10-16 01:17:00.000000122</td>\n",
       "      <td>23.90</td>\n",
       "      <td>2011-10-16 01:17:00+00:00</td>\n",
       "      <td>-74.945938</td>\n",
       "      <td>39.993120</td>\n",
       "      <td>-74.945938</td>\n",
       "      <td>39.993120</td>\n",
       "      <td>1</td>\n",
       "      <td>2011</td>\n",
       "      <td>10</td>\n",
       "      <td>16</td>\n",
       "      <td>1</td>\n",
       "      <td>7</td>\n",
       "      <td>0.000000</td>\n",
       "    </tr>\n",
       "    <tr>\n",
       "      <th>91516</th>\n",
       "      <td>2011-02-15 11:33:44.0000003</td>\n",
       "      <td>9.70</td>\n",
       "      <td>2011-02-15 11:33:44+00:00</td>\n",
       "      <td>-73.981136</td>\n",
       "      <td>39.608649</td>\n",
       "      <td>-73.962778</td>\n",
       "      <td>40.766702</td>\n",
       "      <td>1</td>\n",
       "      <td>2011</td>\n",
       "      <td>2</td>\n",
       "      <td>15</td>\n",
       "      <td>11</td>\n",
       "      <td>2</td>\n",
       "      <td>128.779099</td>\n",
       "    </tr>\n",
       "  </tbody>\n",
       "</table>\n",
       "</div>"
      ],
      "text/plain": [
       "                                 key  fare_amount           pickup_datetime  \\\n",
       "8176     2011-04-08 12:58:26.0000005        10.50 2011-04-08 12:58:26+00:00   \n",
       "8334     2011-02-21 12:16:33.0000003         2.90 2011-02-21 12:16:33+00:00   \n",
       "8584     2011-05-24 13:46:23.0000003         8.10 2011-05-24 13:46:23+00:00   \n",
       "10710    2011-02-11 21:46:09.0000001         3.70 2011-02-11 21:46:09+00:00   \n",
       "11619    2011-05-27 21:47:44.0000002        11.30 2011-05-27 21:47:44+00:00   \n",
       "29654    2011-02-10 02:22:52.0000001         7.70 2011-02-10 02:22:52+00:00   \n",
       "30950    2011-04-25 08:57:38.0000005         8.50 2011-04-25 08:57:38+00:00   \n",
       "37038    2011-03-10 16:05:27.0000001         8.10 2011-03-10 16:05:27+00:00   \n",
       "43519   2011-03-24 18:33:44.00000010        14.90 2011-03-24 18:33:44+00:00   \n",
       "44777    2011-03-28 12:08:51.0000002         7.70 2011-03-28 12:08:51+00:00   \n",
       "45139    2015-06-04 14:24:03.0000005        57.54 2015-06-04 14:24:03+00:00   \n",
       "54547    2011-03-04 08:41:15.0000004        14.90 2011-03-04 08:41:15+00:00   \n",
       "81681    2011-05-31 11:41:44.0000005        20.10 2011-05-31 11:41:44+00:00   \n",
       "81857  2011-10-16 01:17:00.000000122        23.90 2011-10-16 01:17:00+00:00   \n",
       "91516    2011-02-15 11:33:44.0000003         9.70 2011-02-15 11:33:44+00:00   \n",
       "\n",
       "       pickup_longitude  pickup_latitude  dropoff_longitude  dropoff_latitude  \\\n",
       "8176         -73.967350        39.627358         -73.959343         39.625547   \n",
       "8334         -73.967160        39.617851         -73.976375         39.605025   \n",
       "8584         -73.964460        39.616075         -73.946669         39.604972   \n",
       "10710        -73.955411        39.604164         -73.955647         40.772837   \n",
       "11619        -73.945106        39.603178         -73.976636         40.749643   \n",
       "29654        -73.964531        39.631717         -73.982297         40.775564   \n",
       "30950        -73.954724        39.613492         -73.954297         40.767204   \n",
       "37038        -73.949891        39.620362         -73.954676         40.770738   \n",
       "43519        -73.958490        39.605743         -73.941292         39.663073   \n",
       "44777        -73.978483        39.607752         -73.980734         40.751096   \n",
       "45139        -70.140793        38.754215         -73.789780         40.646969   \n",
       "54547        -73.955955        39.608398         -73.997245         40.739293   \n",
       "81681        -73.971874        39.616524         -73.984927         40.742450   \n",
       "81857        -74.945938        39.993120         -74.945938         39.993120   \n",
       "91516        -73.981136        39.608649         -73.962778         40.766702   \n",
       "\n",
       "       passenger_count  year  month  day  hour  day_of_week    distance  \n",
       "8176                 1  2011      4    8    12            5    0.714716  \n",
       "8334                 1  2011      2   21    12            1    1.630049  \n",
       "8584                 1  2011      5   24    13            2    1.961366  \n",
       "10710                1  2011      2   11    21            5  129.950483  \n",
       "11619                1  2011      5   27    21            5  127.509261  \n",
       "29654                1  2011      2   10     2            4  127.198854  \n",
       "30950                1  2011      4   25     8            1  128.286961  \n",
       "37038                1  2011      3   10    16            4  127.916599  \n",
       "43519                1  2011      3   24    18            4    6.542762  \n",
       "44777                1  2011      3   28    12            1  127.134200  \n",
       "45139                1  2015      6    4    14            4  376.445536  \n",
       "54547                1  2011      3    4     8            5  125.798698  \n",
       "81681                1  2011      5   31    11            2  125.202176  \n",
       "81857                1  2011     10   16     1            7    0.000000  \n",
       "91516                1  2011      2   15    11            2  128.779099  "
      ]
     },
     "execution_count": 174,
     "metadata": {},
     "output_type": "execute_result"
    }
   ],
   "source": [
    "df_fixed[(df_fixed['pickup_latitude'] < 40) & (df_fixed['pickup_latitude'] != 0)]"
   ]
  },
  {
   "cell_type": "code",
   "execution_count": 176,
   "metadata": {},
   "outputs": [],
   "source": [
    "df = df_fixed"
   ]
  },
  {
   "cell_type": "code",
   "execution_count": 177,
   "metadata": {},
   "outputs": [
    {
     "data": {
      "text/html": [
       "<div>\n",
       "<style scoped>\n",
       "    .dataframe tbody tr th:only-of-type {\n",
       "        vertical-align: middle;\n",
       "    }\n",
       "\n",
       "    .dataframe tbody tr th {\n",
       "        vertical-align: top;\n",
       "    }\n",
       "\n",
       "    .dataframe thead th {\n",
       "        text-align: right;\n",
       "    }\n",
       "</style>\n",
       "<table border=\"1\" class=\"dataframe\">\n",
       "  <thead>\n",
       "    <tr style=\"text-align: right;\">\n",
       "      <th></th>\n",
       "      <th>key</th>\n",
       "      <th>fare_amount</th>\n",
       "      <th>pickup_datetime</th>\n",
       "      <th>pickup_longitude</th>\n",
       "      <th>pickup_latitude</th>\n",
       "      <th>dropoff_longitude</th>\n",
       "      <th>dropoff_latitude</th>\n",
       "      <th>passenger_count</th>\n",
       "      <th>year</th>\n",
       "      <th>month</th>\n",
       "      <th>day</th>\n",
       "      <th>hour</th>\n",
       "      <th>day_of_week</th>\n",
       "      <th>distance</th>\n",
       "    </tr>\n",
       "  </thead>\n",
       "  <tbody>\n",
       "    <tr>\n",
       "      <th>11</th>\n",
       "      <td>2012-12-24 11:24:00.00000098</td>\n",
       "      <td>5.5</td>\n",
       "      <td>2012-12-24 11:24:00+00:00</td>\n",
       "      <td>-73.975189</td>\n",
       "      <td>40.751025</td>\n",
       "      <td>-73.974009</td>\n",
       "      <td>40.751463</td>\n",
       "      <td>3</td>\n",
       "      <td>2012</td>\n",
       "      <td>12</td>\n",
       "      <td>24</td>\n",
       "      <td>11</td>\n",
       "      <td>1</td>\n",
       "      <td>0.0</td>\n",
       "    </tr>\n",
       "    <tr>\n",
       "      <th>15</th>\n",
       "      <td>2013-11-23 12:57:00.000000190</td>\n",
       "      <td>5.0</td>\n",
       "      <td>2013-11-23 12:57:00+00:00</td>\n",
       "      <td>-73.975189</td>\n",
       "      <td>40.751025</td>\n",
       "      <td>-73.974009</td>\n",
       "      <td>40.751463</td>\n",
       "      <td>1</td>\n",
       "      <td>2013</td>\n",
       "      <td>11</td>\n",
       "      <td>23</td>\n",
       "      <td>12</td>\n",
       "      <td>6</td>\n",
       "      <td>0.0</td>\n",
       "    </tr>\n",
       "    <tr>\n",
       "      <th>26</th>\n",
       "      <td>2011-02-07 20:01:00.000000114</td>\n",
       "      <td>6.5</td>\n",
       "      <td>2011-02-07 20:01:00+00:00</td>\n",
       "      <td>-73.975189</td>\n",
       "      <td>40.751025</td>\n",
       "      <td>-73.974009</td>\n",
       "      <td>40.751463</td>\n",
       "      <td>1</td>\n",
       "      <td>2011</td>\n",
       "      <td>2</td>\n",
       "      <td>7</td>\n",
       "      <td>20</td>\n",
       "      <td>1</td>\n",
       "      <td>0.0</td>\n",
       "    </tr>\n",
       "    <tr>\n",
       "      <th>105</th>\n",
       "      <td>2009-03-25 00:08:52.0000001</td>\n",
       "      <td>52.0</td>\n",
       "      <td>2009-03-25 00:08:52+00:00</td>\n",
       "      <td>-74.035839</td>\n",
       "      <td>40.747320</td>\n",
       "      <td>-74.035839</td>\n",
       "      <td>40.747320</td>\n",
       "      <td>1</td>\n",
       "      <td>2009</td>\n",
       "      <td>3</td>\n",
       "      <td>25</td>\n",
       "      <td>0</td>\n",
       "      <td>3</td>\n",
       "      <td>0.0</td>\n",
       "    </tr>\n",
       "    <tr>\n",
       "      <th>124</th>\n",
       "      <td>2013-01-17 17:22:00.00000043</td>\n",
       "      <td>8.0</td>\n",
       "      <td>2013-01-17 17:22:00+00:00</td>\n",
       "      <td>-73.975189</td>\n",
       "      <td>40.751025</td>\n",
       "      <td>-73.974009</td>\n",
       "      <td>40.751463</td>\n",
       "      <td>2</td>\n",
       "      <td>2013</td>\n",
       "      <td>1</td>\n",
       "      <td>17</td>\n",
       "      <td>17</td>\n",
       "      <td>4</td>\n",
       "      <td>0.0</td>\n",
       "    </tr>\n",
       "    <tr>\n",
       "      <th>...</th>\n",
       "      <td>...</td>\n",
       "      <td>...</td>\n",
       "      <td>...</td>\n",
       "      <td>...</td>\n",
       "      <td>...</td>\n",
       "      <td>...</td>\n",
       "      <td>...</td>\n",
       "      <td>...</td>\n",
       "      <td>...</td>\n",
       "      <td>...</td>\n",
       "      <td>...</td>\n",
       "      <td>...</td>\n",
       "      <td>...</td>\n",
       "      <td>...</td>\n",
       "    </tr>\n",
       "    <tr>\n",
       "      <th>99787</th>\n",
       "      <td>2011-12-21 09:36:00.000000155</td>\n",
       "      <td>13.7</td>\n",
       "      <td>2011-12-21 09:36:00+00:00</td>\n",
       "      <td>-73.937762</td>\n",
       "      <td>40.758157</td>\n",
       "      <td>-73.937762</td>\n",
       "      <td>40.758157</td>\n",
       "      <td>1</td>\n",
       "      <td>2011</td>\n",
       "      <td>12</td>\n",
       "      <td>21</td>\n",
       "      <td>9</td>\n",
       "      <td>3</td>\n",
       "      <td>0.0</td>\n",
       "    </tr>\n",
       "    <tr>\n",
       "      <th>99793</th>\n",
       "      <td>2011-11-08 08:54:00.00000079</td>\n",
       "      <td>6.1</td>\n",
       "      <td>2011-11-08 08:54:00+00:00</td>\n",
       "      <td>-73.998613</td>\n",
       "      <td>40.671772</td>\n",
       "      <td>-73.998613</td>\n",
       "      <td>40.671772</td>\n",
       "      <td>5</td>\n",
       "      <td>2011</td>\n",
       "      <td>11</td>\n",
       "      <td>8</td>\n",
       "      <td>8</td>\n",
       "      <td>2</td>\n",
       "      <td>0.0</td>\n",
       "    </tr>\n",
       "    <tr>\n",
       "      <th>99829</th>\n",
       "      <td>2012-04-01 17:02:00.0000005</td>\n",
       "      <td>24.9</td>\n",
       "      <td>2012-04-01 17:02:00+00:00</td>\n",
       "      <td>-73.975189</td>\n",
       "      <td>40.751025</td>\n",
       "      <td>-73.974009</td>\n",
       "      <td>40.751463</td>\n",
       "      <td>3</td>\n",
       "      <td>2012</td>\n",
       "      <td>4</td>\n",
       "      <td>1</td>\n",
       "      <td>17</td>\n",
       "      <td>7</td>\n",
       "      <td>0.0</td>\n",
       "    </tr>\n",
       "    <tr>\n",
       "      <th>99904</th>\n",
       "      <td>2010-08-14 17:56:04.0000002</td>\n",
       "      <td>6.9</td>\n",
       "      <td>2010-08-14 17:56:04+00:00</td>\n",
       "      <td>-73.975189</td>\n",
       "      <td>40.751025</td>\n",
       "      <td>-73.974009</td>\n",
       "      <td>40.751463</td>\n",
       "      <td>1</td>\n",
       "      <td>2010</td>\n",
       "      <td>8</td>\n",
       "      <td>14</td>\n",
       "      <td>17</td>\n",
       "      <td>6</td>\n",
       "      <td>0.0</td>\n",
       "    </tr>\n",
       "    <tr>\n",
       "      <th>99971</th>\n",
       "      <td>2011-01-28 21:12:00.000000109</td>\n",
       "      <td>6.1</td>\n",
       "      <td>2011-01-28 21:12:00+00:00</td>\n",
       "      <td>-73.975189</td>\n",
       "      <td>40.751025</td>\n",
       "      <td>-73.974009</td>\n",
       "      <td>40.751463</td>\n",
       "      <td>1</td>\n",
       "      <td>2011</td>\n",
       "      <td>1</td>\n",
       "      <td>28</td>\n",
       "      <td>21</td>\n",
       "      <td>5</td>\n",
       "      <td>0.0</td>\n",
       "    </tr>\n",
       "  </tbody>\n",
       "</table>\n",
       "<p>2913 rows × 14 columns</p>\n",
       "</div>"
      ],
      "text/plain": [
       "                                 key  fare_amount           pickup_datetime  \\\n",
       "11      2012-12-24 11:24:00.00000098          5.5 2012-12-24 11:24:00+00:00   \n",
       "15     2013-11-23 12:57:00.000000190          5.0 2013-11-23 12:57:00+00:00   \n",
       "26     2011-02-07 20:01:00.000000114          6.5 2011-02-07 20:01:00+00:00   \n",
       "105      2009-03-25 00:08:52.0000001         52.0 2009-03-25 00:08:52+00:00   \n",
       "124     2013-01-17 17:22:00.00000043          8.0 2013-01-17 17:22:00+00:00   \n",
       "...                              ...          ...                       ...   \n",
       "99787  2011-12-21 09:36:00.000000155         13.7 2011-12-21 09:36:00+00:00   \n",
       "99793   2011-11-08 08:54:00.00000079          6.1 2011-11-08 08:54:00+00:00   \n",
       "99829    2012-04-01 17:02:00.0000005         24.9 2012-04-01 17:02:00+00:00   \n",
       "99904    2010-08-14 17:56:04.0000002          6.9 2010-08-14 17:56:04+00:00   \n",
       "99971  2011-01-28 21:12:00.000000109          6.1 2011-01-28 21:12:00+00:00   \n",
       "\n",
       "       pickup_longitude  pickup_latitude  dropoff_longitude  dropoff_latitude  \\\n",
       "11           -73.975189        40.751025         -73.974009         40.751463   \n",
       "15           -73.975189        40.751025         -73.974009         40.751463   \n",
       "26           -73.975189        40.751025         -73.974009         40.751463   \n",
       "105          -74.035839        40.747320         -74.035839         40.747320   \n",
       "124          -73.975189        40.751025         -73.974009         40.751463   \n",
       "...                 ...              ...                ...               ...   \n",
       "99787        -73.937762        40.758157         -73.937762         40.758157   \n",
       "99793        -73.998613        40.671772         -73.998613         40.671772   \n",
       "99829        -73.975189        40.751025         -73.974009         40.751463   \n",
       "99904        -73.975189        40.751025         -73.974009         40.751463   \n",
       "99971        -73.975189        40.751025         -73.974009         40.751463   \n",
       "\n",
       "       passenger_count  year  month  day  hour  day_of_week  distance  \n",
       "11                   3  2012     12   24    11            1       0.0  \n",
       "15                   1  2013     11   23    12            6       0.0  \n",
       "26                   1  2011      2    7    20            1       0.0  \n",
       "105                  1  2009      3   25     0            3       0.0  \n",
       "124                  2  2013      1   17    17            4       0.0  \n",
       "...                ...   ...    ...  ...   ...          ...       ...  \n",
       "99787                1  2011     12   21     9            3       0.0  \n",
       "99793                5  2011     11    8     8            2       0.0  \n",
       "99829                3  2012      4    1    17            7       0.0  \n",
       "99904                1  2010      8   14    17            6       0.0  \n",
       "99971                1  2011      1   28    21            5       0.0  \n",
       "\n",
       "[2913 rows x 14 columns]"
      ]
     },
     "execution_count": 177,
     "metadata": {},
     "output_type": "execute_result"
    }
   ],
   "source": [
    "df[df['distance'] == 0]"
   ]
  },
  {
   "cell_type": "code",
   "execution_count": 187,
   "metadata": {},
   "outputs": [
    {
     "data": {
      "text/plain": [
       "43.183332"
      ]
     },
     "execution_count": 187,
     "metadata": {},
     "output_type": "execute_result"
    }
   ],
   "source": [
    "df['pickup_latitude'].max()"
   ]
  },
  {
   "cell_type": "code",
   "execution_count": 178,
   "metadata": {},
   "outputs": [],
   "source": [
    "df = df[df['distance'] > 0]"
   ]
  },
  {
   "cell_type": "code",
   "execution_count": 179,
   "metadata": {},
   "outputs": [
    {
     "data": {
      "text/plain": [
       "(96900, 14)"
      ]
     },
     "execution_count": 179,
     "metadata": {},
     "output_type": "execute_result"
    }
   ],
   "source": [
    "df.shape"
   ]
  },
  {
   "cell_type": "code",
   "execution_count": 194,
   "metadata": {},
   "outputs": [
    {
     "data": {
      "text/plain": [
       "Index(['key', 'fare_amount', 'pickup_datetime', 'pickup_longitude',\n",
       "       'pickup_latitude', 'dropoff_longitude', 'dropoff_latitude',\n",
       "       'passenger_count', 'year', 'month', 'day', 'hour', 'day_of_week',\n",
       "       'distance'],\n",
       "      dtype='object')"
      ]
     },
     "execution_count": 194,
     "metadata": {},
     "output_type": "execute_result"
    }
   ],
   "source": [
    "df.columns"
   ]
  },
  {
   "attachments": {},
   "cell_type": "markdown",
   "metadata": {},
   "source": [
    "### 5. Split the data and standardise features"
   ]
  },
  {
   "cell_type": "code",
   "execution_count": 195,
   "metadata": {},
   "outputs": [],
   "source": [
    "df = df.drop(columns=['key', 'pickup_datetime'])\n",
    "\n",
    "X = df.drop(columns=['fare_amount'])\n",
    "y = df['fare_amount']"
   ]
  },
  {
   "cell_type": "code",
   "execution_count": 196,
   "metadata": {},
   "outputs": [],
   "source": [
    "X_train, X_test, y_train, y_test = train_test_split(X, y, test_size=0.2, random_state=101)"
   ]
  },
  {
   "cell_type": "code",
   "execution_count": 200,
   "metadata": {},
   "outputs": [],
   "source": [
    "scaler = StandardScaler()\n",
    "X_train_scaled = scaler.fit_transform(X_train)\n",
    "X_test_scaled = scaler.transform(X_test)"
   ]
  },
  {
   "attachments": {},
   "cell_type": "markdown",
   "metadata": {},
   "source": [
    "### 6. Set model, fit, and get predictions for the decision tree"
   ]
  },
  {
   "cell_type": "code",
   "execution_count": 201,
   "metadata": {},
   "outputs": [
    {
     "data": {
      "text/html": [
       "<style>#sk-container-id-1 {color: black;background-color: white;}#sk-container-id-1 pre{padding: 0;}#sk-container-id-1 div.sk-toggleable {background-color: white;}#sk-container-id-1 label.sk-toggleable__label {cursor: pointer;display: block;width: 100%;margin-bottom: 0;padding: 0.3em;box-sizing: border-box;text-align: center;}#sk-container-id-1 label.sk-toggleable__label-arrow:before {content: \"▸\";float: left;margin-right: 0.25em;color: #696969;}#sk-container-id-1 label.sk-toggleable__label-arrow:hover:before {color: black;}#sk-container-id-1 div.sk-estimator:hover label.sk-toggleable__label-arrow:before {color: black;}#sk-container-id-1 div.sk-toggleable__content {max-height: 0;max-width: 0;overflow: hidden;text-align: left;background-color: #f0f8ff;}#sk-container-id-1 div.sk-toggleable__content pre {margin: 0.2em;color: black;border-radius: 0.25em;background-color: #f0f8ff;}#sk-container-id-1 input.sk-toggleable__control:checked~div.sk-toggleable__content {max-height: 200px;max-width: 100%;overflow: auto;}#sk-container-id-1 input.sk-toggleable__control:checked~label.sk-toggleable__label-arrow:before {content: \"▾\";}#sk-container-id-1 div.sk-estimator input.sk-toggleable__control:checked~label.sk-toggleable__label {background-color: #d4ebff;}#sk-container-id-1 div.sk-label input.sk-toggleable__control:checked~label.sk-toggleable__label {background-color: #d4ebff;}#sk-container-id-1 input.sk-hidden--visually {border: 0;clip: rect(1px 1px 1px 1px);clip: rect(1px, 1px, 1px, 1px);height: 1px;margin: -1px;overflow: hidden;padding: 0;position: absolute;width: 1px;}#sk-container-id-1 div.sk-estimator {font-family: monospace;background-color: #f0f8ff;border: 1px dotted black;border-radius: 0.25em;box-sizing: border-box;margin-bottom: 0.5em;}#sk-container-id-1 div.sk-estimator:hover {background-color: #d4ebff;}#sk-container-id-1 div.sk-parallel-item::after {content: \"\";width: 100%;border-bottom: 1px solid gray;flex-grow: 1;}#sk-container-id-1 div.sk-label:hover label.sk-toggleable__label {background-color: #d4ebff;}#sk-container-id-1 div.sk-serial::before {content: \"\";position: absolute;border-left: 1px solid gray;box-sizing: border-box;top: 0;bottom: 0;left: 50%;z-index: 0;}#sk-container-id-1 div.sk-serial {display: flex;flex-direction: column;align-items: center;background-color: white;padding-right: 0.2em;padding-left: 0.2em;position: relative;}#sk-container-id-1 div.sk-item {position: relative;z-index: 1;}#sk-container-id-1 div.sk-parallel {display: flex;align-items: stretch;justify-content: center;background-color: white;position: relative;}#sk-container-id-1 div.sk-item::before, #sk-container-id-1 div.sk-parallel-item::before {content: \"\";position: absolute;border-left: 1px solid gray;box-sizing: border-box;top: 0;bottom: 0;left: 50%;z-index: -1;}#sk-container-id-1 div.sk-parallel-item {display: flex;flex-direction: column;z-index: 1;position: relative;background-color: white;}#sk-container-id-1 div.sk-parallel-item:first-child::after {align-self: flex-end;width: 50%;}#sk-container-id-1 div.sk-parallel-item:last-child::after {align-self: flex-start;width: 50%;}#sk-container-id-1 div.sk-parallel-item:only-child::after {width: 0;}#sk-container-id-1 div.sk-dashed-wrapped {border: 1px dashed gray;margin: 0 0.4em 0.5em 0.4em;box-sizing: border-box;padding-bottom: 0.4em;background-color: white;}#sk-container-id-1 div.sk-label label {font-family: monospace;font-weight: bold;display: inline-block;line-height: 1.2em;}#sk-container-id-1 div.sk-label-container {text-align: center;}#sk-container-id-1 div.sk-container {/* jupyter's `normalize.less` sets `[hidden] { display: none; }` but bootstrap.min.css set `[hidden] { display: none !important; }` so we also need the `!important` here to be able to override the default hidden behavior on the sphinx rendered scikit-learn.org. See: https://github.com/scikit-learn/scikit-learn/issues/21755 */display: inline-block !important;position: relative;}#sk-container-id-1 div.sk-text-repr-fallback {display: none;}</style><div id=\"sk-container-id-1\" class=\"sk-top-container\"><div class=\"sk-text-repr-fallback\"><pre>DecisionTreeRegressor(random_state=101)</pre><b>In a Jupyter environment, please rerun this cell to show the HTML representation or trust the notebook. <br />On GitHub, the HTML representation is unable to render, please try loading this page with nbviewer.org.</b></div><div class=\"sk-container\" hidden><div class=\"sk-item\"><div class=\"sk-estimator sk-toggleable\"><input class=\"sk-toggleable__control sk-hidden--visually\" id=\"sk-estimator-id-1\" type=\"checkbox\" checked><label for=\"sk-estimator-id-1\" class=\"sk-toggleable__label sk-toggleable__label-arrow\">DecisionTreeRegressor</label><div class=\"sk-toggleable__content\"><pre>DecisionTreeRegressor(random_state=101)</pre></div></div></div></div></div>"
      ],
      "text/plain": [
       "DecisionTreeRegressor(random_state=101)"
      ]
     },
     "execution_count": 201,
     "metadata": {},
     "output_type": "execute_result"
    }
   ],
   "source": [
    "dt = DecisionTreeRegressor(random_state=101)\n",
    "dt.fit(X_train_scaled, y_train)"
   ]
  },
  {
   "cell_type": "code",
   "execution_count": 202,
   "metadata": {},
   "outputs": [],
   "source": [
    "y_pred_dt = dt.predict(X_test_scaled)"
   ]
  },
  {
   "attachments": {},
   "cell_type": "markdown",
   "metadata": {},
   "source": [
    "### 7. Evaluate the decision tree model's performance"
   ]
  },
  {
   "cell_type": "code",
   "execution_count": 203,
   "metadata": {},
   "outputs": [
    {
     "name": "stdout",
     "output_type": "stream",
     "text": [
      "Decision Tree Regression Performance:\n",
      "Mean Squared Error: 34.70543249742002\n",
      "R-squared: 0.6249704521518453\n"
     ]
    }
   ],
   "source": [
    "mse_dt = mean_squared_error(y_test, y_pred_dt)\n",
    "r2_dt = r2_score(y_test, y_pred_dt)\n",
    "print('Decision Tree Regression Performance:')\n",
    "print('Mean Squared Error:', mse_dt)\n",
    "print('R-squared:', r2_dt)"
   ]
  },
  {
   "attachments": {},
   "cell_type": "markdown",
   "metadata": {},
   "source": [
    "### 8. Set model, fit, and get predictions for the random forest"
   ]
  },
  {
   "cell_type": "code",
   "execution_count": 204,
   "metadata": {},
   "outputs": [
    {
     "data": {
      "text/html": [
       "<style>#sk-container-id-2 {color: black;background-color: white;}#sk-container-id-2 pre{padding: 0;}#sk-container-id-2 div.sk-toggleable {background-color: white;}#sk-container-id-2 label.sk-toggleable__label {cursor: pointer;display: block;width: 100%;margin-bottom: 0;padding: 0.3em;box-sizing: border-box;text-align: center;}#sk-container-id-2 label.sk-toggleable__label-arrow:before {content: \"▸\";float: left;margin-right: 0.25em;color: #696969;}#sk-container-id-2 label.sk-toggleable__label-arrow:hover:before {color: black;}#sk-container-id-2 div.sk-estimator:hover label.sk-toggleable__label-arrow:before {color: black;}#sk-container-id-2 div.sk-toggleable__content {max-height: 0;max-width: 0;overflow: hidden;text-align: left;background-color: #f0f8ff;}#sk-container-id-2 div.sk-toggleable__content pre {margin: 0.2em;color: black;border-radius: 0.25em;background-color: #f0f8ff;}#sk-container-id-2 input.sk-toggleable__control:checked~div.sk-toggleable__content {max-height: 200px;max-width: 100%;overflow: auto;}#sk-container-id-2 input.sk-toggleable__control:checked~label.sk-toggleable__label-arrow:before {content: \"▾\";}#sk-container-id-2 div.sk-estimator input.sk-toggleable__control:checked~label.sk-toggleable__label {background-color: #d4ebff;}#sk-container-id-2 div.sk-label input.sk-toggleable__control:checked~label.sk-toggleable__label {background-color: #d4ebff;}#sk-container-id-2 input.sk-hidden--visually {border: 0;clip: rect(1px 1px 1px 1px);clip: rect(1px, 1px, 1px, 1px);height: 1px;margin: -1px;overflow: hidden;padding: 0;position: absolute;width: 1px;}#sk-container-id-2 div.sk-estimator {font-family: monospace;background-color: #f0f8ff;border: 1px dotted black;border-radius: 0.25em;box-sizing: border-box;margin-bottom: 0.5em;}#sk-container-id-2 div.sk-estimator:hover {background-color: #d4ebff;}#sk-container-id-2 div.sk-parallel-item::after {content: \"\";width: 100%;border-bottom: 1px solid gray;flex-grow: 1;}#sk-container-id-2 div.sk-label:hover label.sk-toggleable__label {background-color: #d4ebff;}#sk-container-id-2 div.sk-serial::before {content: \"\";position: absolute;border-left: 1px solid gray;box-sizing: border-box;top: 0;bottom: 0;left: 50%;z-index: 0;}#sk-container-id-2 div.sk-serial {display: flex;flex-direction: column;align-items: center;background-color: white;padding-right: 0.2em;padding-left: 0.2em;position: relative;}#sk-container-id-2 div.sk-item {position: relative;z-index: 1;}#sk-container-id-2 div.sk-parallel {display: flex;align-items: stretch;justify-content: center;background-color: white;position: relative;}#sk-container-id-2 div.sk-item::before, #sk-container-id-2 div.sk-parallel-item::before {content: \"\";position: absolute;border-left: 1px solid gray;box-sizing: border-box;top: 0;bottom: 0;left: 50%;z-index: -1;}#sk-container-id-2 div.sk-parallel-item {display: flex;flex-direction: column;z-index: 1;position: relative;background-color: white;}#sk-container-id-2 div.sk-parallel-item:first-child::after {align-self: flex-end;width: 50%;}#sk-container-id-2 div.sk-parallel-item:last-child::after {align-self: flex-start;width: 50%;}#sk-container-id-2 div.sk-parallel-item:only-child::after {width: 0;}#sk-container-id-2 div.sk-dashed-wrapped {border: 1px dashed gray;margin: 0 0.4em 0.5em 0.4em;box-sizing: border-box;padding-bottom: 0.4em;background-color: white;}#sk-container-id-2 div.sk-label label {font-family: monospace;font-weight: bold;display: inline-block;line-height: 1.2em;}#sk-container-id-2 div.sk-label-container {text-align: center;}#sk-container-id-2 div.sk-container {/* jupyter's `normalize.less` sets `[hidden] { display: none; }` but bootstrap.min.css set `[hidden] { display: none !important; }` so we also need the `!important` here to be able to override the default hidden behavior on the sphinx rendered scikit-learn.org. See: https://github.com/scikit-learn/scikit-learn/issues/21755 */display: inline-block !important;position: relative;}#sk-container-id-2 div.sk-text-repr-fallback {display: none;}</style><div id=\"sk-container-id-2\" class=\"sk-top-container\"><div class=\"sk-text-repr-fallback\"><pre>RandomForestRegressor(random_state=101)</pre><b>In a Jupyter environment, please rerun this cell to show the HTML representation or trust the notebook. <br />On GitHub, the HTML representation is unable to render, please try loading this page with nbviewer.org.</b></div><div class=\"sk-container\" hidden><div class=\"sk-item\"><div class=\"sk-estimator sk-toggleable\"><input class=\"sk-toggleable__control sk-hidden--visually\" id=\"sk-estimator-id-2\" type=\"checkbox\" checked><label for=\"sk-estimator-id-2\" class=\"sk-toggleable__label sk-toggleable__label-arrow\">RandomForestRegressor</label><div class=\"sk-toggleable__content\"><pre>RandomForestRegressor(random_state=101)</pre></div></div></div></div></div>"
      ],
      "text/plain": [
       "RandomForestRegressor(random_state=101)"
      ]
     },
     "execution_count": 204,
     "metadata": {},
     "output_type": "execute_result"
    }
   ],
   "source": [
    "rf = RandomForestRegressor(random_state=101)\n",
    "rf.fit(X_train_scaled, y_train)"
   ]
  },
  {
   "cell_type": "code",
   "execution_count": 205,
   "metadata": {},
   "outputs": [],
   "source": [
    "y_pred_rf = rf.predict(X_test_scaled)"
   ]
  },
  {
   "attachments": {},
   "cell_type": "markdown",
   "metadata": {},
   "source": [
    "### 9. Evaluate the random forest model's performance"
   ]
  },
  {
   "cell_type": "code",
   "execution_count": 206,
   "metadata": {},
   "outputs": [
    {
     "name": "stdout",
     "output_type": "stream",
     "text": [
      "Random Forest Regression Performance:\n",
      "Mean Squared Error: 17.052436565471105\n",
      "R-squared: 0.8157300712119527\n"
     ]
    }
   ],
   "source": [
    "mse_rf = mean_squared_error(y_test, y_pred_rf)\n",
    "r2_rf = r2_score(y_test, y_pred_rf)\n",
    "print('Random Forest Regression Performance:')\n",
    "print('Mean Squared Error:', mse_rf)\n",
    "print('R-squared:', r2_rf)"
   ]
  },
  {
   "attachments": {},
   "cell_type": "markdown",
   "metadata": {},
   "source": [
    "### 10. Compare performances between decision tree and random forest models"
   ]
  },
  {
   "cell_type": "code",
   "execution_count": 207,
   "metadata": {},
   "outputs": [
    {
     "name": "stdout",
     "output_type": "stream",
     "text": [
      "Decision Tree Regression Performance:\n",
      "Mean Squared Error: 34.70543249742002\n",
      "R-squared: 0.6249704521518453\n",
      "\n",
      "\n",
      "Random Forest Regression Performance:\n",
      "Mean Squared Error: 17.052436565471105\n",
      "R-squared: 0.8157300712119527\n"
     ]
    }
   ],
   "source": [
    "print('Decision Tree Regression Performance:')\n",
    "print('Mean Squared Error:', mse_dt)\n",
    "print('R-squared:', r2_dt)\n",
    "print('\\n')\n",
    "print('Random Forest Regression Performance:')\n",
    "print('Mean Squared Error:', mse_rf)\n",
    "print('R-squared:', r2_rf)"
   ]
  },
  {
   "attachments": {},
   "cell_type": "markdown",
   "metadata": {},
   "source": [
    "Somewhat clear that the random forest model was better. But can it do it even better?"
   ]
  },
  {
   "attachments": {},
   "cell_type": "markdown",
   "metadata": {},
   "source": [
    "### 11. Use GridSearchCV to find best hyperparameters for the random forest regressor (this will take a while!)"
   ]
  },
  {
   "cell_type": "code",
   "execution_count": 213,
   "metadata": {},
   "outputs": [
    {
     "data": {
      "text/html": [
       "<style>#sk-container-id-4 {color: black;background-color: white;}#sk-container-id-4 pre{padding: 0;}#sk-container-id-4 div.sk-toggleable {background-color: white;}#sk-container-id-4 label.sk-toggleable__label {cursor: pointer;display: block;width: 100%;margin-bottom: 0;padding: 0.3em;box-sizing: border-box;text-align: center;}#sk-container-id-4 label.sk-toggleable__label-arrow:before {content: \"▸\";float: left;margin-right: 0.25em;color: #696969;}#sk-container-id-4 label.sk-toggleable__label-arrow:hover:before {color: black;}#sk-container-id-4 div.sk-estimator:hover label.sk-toggleable__label-arrow:before {color: black;}#sk-container-id-4 div.sk-toggleable__content {max-height: 0;max-width: 0;overflow: hidden;text-align: left;background-color: #f0f8ff;}#sk-container-id-4 div.sk-toggleable__content pre {margin: 0.2em;color: black;border-radius: 0.25em;background-color: #f0f8ff;}#sk-container-id-4 input.sk-toggleable__control:checked~div.sk-toggleable__content {max-height: 200px;max-width: 100%;overflow: auto;}#sk-container-id-4 input.sk-toggleable__control:checked~label.sk-toggleable__label-arrow:before {content: \"▾\";}#sk-container-id-4 div.sk-estimator input.sk-toggleable__control:checked~label.sk-toggleable__label {background-color: #d4ebff;}#sk-container-id-4 div.sk-label input.sk-toggleable__control:checked~label.sk-toggleable__label {background-color: #d4ebff;}#sk-container-id-4 input.sk-hidden--visually {border: 0;clip: rect(1px 1px 1px 1px);clip: rect(1px, 1px, 1px, 1px);height: 1px;margin: -1px;overflow: hidden;padding: 0;position: absolute;width: 1px;}#sk-container-id-4 div.sk-estimator {font-family: monospace;background-color: #f0f8ff;border: 1px dotted black;border-radius: 0.25em;box-sizing: border-box;margin-bottom: 0.5em;}#sk-container-id-4 div.sk-estimator:hover {background-color: #d4ebff;}#sk-container-id-4 div.sk-parallel-item::after {content: \"\";width: 100%;border-bottom: 1px solid gray;flex-grow: 1;}#sk-container-id-4 div.sk-label:hover label.sk-toggleable__label {background-color: #d4ebff;}#sk-container-id-4 div.sk-serial::before {content: \"\";position: absolute;border-left: 1px solid gray;box-sizing: border-box;top: 0;bottom: 0;left: 50%;z-index: 0;}#sk-container-id-4 div.sk-serial {display: flex;flex-direction: column;align-items: center;background-color: white;padding-right: 0.2em;padding-left: 0.2em;position: relative;}#sk-container-id-4 div.sk-item {position: relative;z-index: 1;}#sk-container-id-4 div.sk-parallel {display: flex;align-items: stretch;justify-content: center;background-color: white;position: relative;}#sk-container-id-4 div.sk-item::before, #sk-container-id-4 div.sk-parallel-item::before {content: \"\";position: absolute;border-left: 1px solid gray;box-sizing: border-box;top: 0;bottom: 0;left: 50%;z-index: -1;}#sk-container-id-4 div.sk-parallel-item {display: flex;flex-direction: column;z-index: 1;position: relative;background-color: white;}#sk-container-id-4 div.sk-parallel-item:first-child::after {align-self: flex-end;width: 50%;}#sk-container-id-4 div.sk-parallel-item:last-child::after {align-self: flex-start;width: 50%;}#sk-container-id-4 div.sk-parallel-item:only-child::after {width: 0;}#sk-container-id-4 div.sk-dashed-wrapped {border: 1px dashed gray;margin: 0 0.4em 0.5em 0.4em;box-sizing: border-box;padding-bottom: 0.4em;background-color: white;}#sk-container-id-4 div.sk-label label {font-family: monospace;font-weight: bold;display: inline-block;line-height: 1.2em;}#sk-container-id-4 div.sk-label-container {text-align: center;}#sk-container-id-4 div.sk-container {/* jupyter's `normalize.less` sets `[hidden] { display: none; }` but bootstrap.min.css set `[hidden] { display: none !important; }` so we also need the `!important` here to be able to override the default hidden behavior on the sphinx rendered scikit-learn.org. See: https://github.com/scikit-learn/scikit-learn/issues/21755 */display: inline-block !important;position: relative;}#sk-container-id-4 div.sk-text-repr-fallback {display: none;}</style><div id=\"sk-container-id-4\" class=\"sk-top-container\"><div class=\"sk-text-repr-fallback\"><pre>RandomizedSearchCV(cv=3, estimator=RandomForestRegressor(random_state=101),\n",
       "                   n_jobs=-1,\n",
       "                   param_distributions={&#x27;max_depth&#x27;: [5, 10, 15],\n",
       "                                        &#x27;min_samples_leaf&#x27;: [1, 2, 4],\n",
       "                                        &#x27;min_samples_split&#x27;: [2, 5, 10],\n",
       "                                        &#x27;n_estimators&#x27;: [100, 200, 300]},\n",
       "                   random_state=42)</pre><b>In a Jupyter environment, please rerun this cell to show the HTML representation or trust the notebook. <br />On GitHub, the HTML representation is unable to render, please try loading this page with nbviewer.org.</b></div><div class=\"sk-container\" hidden><div class=\"sk-item sk-dashed-wrapped\"><div class=\"sk-label-container\"><div class=\"sk-label sk-toggleable\"><input class=\"sk-toggleable__control sk-hidden--visually\" id=\"sk-estimator-id-6\" type=\"checkbox\" ><label for=\"sk-estimator-id-6\" class=\"sk-toggleable__label sk-toggleable__label-arrow\">RandomizedSearchCV</label><div class=\"sk-toggleable__content\"><pre>RandomizedSearchCV(cv=3, estimator=RandomForestRegressor(random_state=101),\n",
       "                   n_jobs=-1,\n",
       "                   param_distributions={&#x27;max_depth&#x27;: [5, 10, 15],\n",
       "                                        &#x27;min_samples_leaf&#x27;: [1, 2, 4],\n",
       "                                        &#x27;min_samples_split&#x27;: [2, 5, 10],\n",
       "                                        &#x27;n_estimators&#x27;: [100, 200, 300]},\n",
       "                   random_state=42)</pre></div></div></div><div class=\"sk-parallel\"><div class=\"sk-parallel-item\"><div class=\"sk-item\"><div class=\"sk-label-container\"><div class=\"sk-label sk-toggleable\"><input class=\"sk-toggleable__control sk-hidden--visually\" id=\"sk-estimator-id-7\" type=\"checkbox\" ><label for=\"sk-estimator-id-7\" class=\"sk-toggleable__label sk-toggleable__label-arrow\">estimator: RandomForestRegressor</label><div class=\"sk-toggleable__content\"><pre>RandomForestRegressor(random_state=101)</pre></div></div></div><div class=\"sk-serial\"><div class=\"sk-item\"><div class=\"sk-estimator sk-toggleable\"><input class=\"sk-toggleable__control sk-hidden--visually\" id=\"sk-estimator-id-8\" type=\"checkbox\" ><label for=\"sk-estimator-id-8\" class=\"sk-toggleable__label sk-toggleable__label-arrow\">RandomForestRegressor</label><div class=\"sk-toggleable__content\"><pre>RandomForestRegressor(random_state=101)</pre></div></div></div></div></div></div></div></div></div></div>"
      ],
      "text/plain": [
       "RandomizedSearchCV(cv=3, estimator=RandomForestRegressor(random_state=101),\n",
       "                   n_jobs=-1,\n",
       "                   param_distributions={'max_depth': [5, 10, 15],\n",
       "                                        'min_samples_leaf': [1, 2, 4],\n",
       "                                        'min_samples_split': [2, 5, 10],\n",
       "                                        'n_estimators': [100, 200, 300]},\n",
       "                   random_state=42)"
      ]
     },
     "execution_count": 213,
     "metadata": {},
     "output_type": "execute_result"
    }
   ],
   "source": [
    "from sklearn.model_selection import RandomizedSearchCV\n",
    "\n",
    "param_dist = {\n",
    "    'n_estimators': [100, 200, 300],\n",
    "    'max_depth': [5, 10, 15],\n",
    "    'min_samples_split': [2, 5, 10],\n",
    "    'min_samples_leaf': [1, 2, 4]\n",
    "}\n",
    "\n",
    "rf_random_cv = RandomizedSearchCV(rf, param_distributions=param_dist, n_iter=10, cv=3, n_jobs=-1, random_state=101)\n",
    "rf_random_cv.fit(X_train_scaled, y_train)"
   ]
  },
  {
   "cell_type": "code",
   "execution_count": 215,
   "metadata": {},
   "outputs": [
    {
     "name": "stdout",
     "output_type": "stream",
     "text": [
      "Best parameters: {'n_estimators': 200, 'min_samples_split': 10, 'min_samples_leaf': 2, 'max_depth': 15}\n",
      "Best score: 0.8309743289381356\n"
     ]
    }
   ],
   "source": [
    "print('Best parameters:', rf_random_cv.best_params_)\n",
    "print('Best score:', rf_random_cv.best_score_)"
   ]
  },
  {
   "cell_type": "code",
   "execution_count": 210,
   "metadata": {},
   "outputs": [],
   "source": [
    "# param_grid = {\n",
    "#     'n_estimators': [100, 200, 300],\n",
    "#     'max_depth': [5, 10, 15],\n",
    "#     'min_samples_split': [2, 5, 10],\n",
    "#     'min_samples_leaf': [1, 2, 4]\n",
    "# }\n",
    "\n",
    "# rf_cv = GridSearchCV(rf, param_grid, cv=5)\n",
    "# rf_cv.fit(X_train_scaled, y_train)"
   ]
  },
  {
   "cell_type": "code",
   "execution_count": 216,
   "metadata": {},
   "outputs": [
    {
     "data": {
      "text/html": [
       "<style>#sk-container-id-5 {color: black;background-color: white;}#sk-container-id-5 pre{padding: 0;}#sk-container-id-5 div.sk-toggleable {background-color: white;}#sk-container-id-5 label.sk-toggleable__label {cursor: pointer;display: block;width: 100%;margin-bottom: 0;padding: 0.3em;box-sizing: border-box;text-align: center;}#sk-container-id-5 label.sk-toggleable__label-arrow:before {content: \"▸\";float: left;margin-right: 0.25em;color: #696969;}#sk-container-id-5 label.sk-toggleable__label-arrow:hover:before {color: black;}#sk-container-id-5 div.sk-estimator:hover label.sk-toggleable__label-arrow:before {color: black;}#sk-container-id-5 div.sk-toggleable__content {max-height: 0;max-width: 0;overflow: hidden;text-align: left;background-color: #f0f8ff;}#sk-container-id-5 div.sk-toggleable__content pre {margin: 0.2em;color: black;border-radius: 0.25em;background-color: #f0f8ff;}#sk-container-id-5 input.sk-toggleable__control:checked~div.sk-toggleable__content {max-height: 200px;max-width: 100%;overflow: auto;}#sk-container-id-5 input.sk-toggleable__control:checked~label.sk-toggleable__label-arrow:before {content: \"▾\";}#sk-container-id-5 div.sk-estimator input.sk-toggleable__control:checked~label.sk-toggleable__label {background-color: #d4ebff;}#sk-container-id-5 div.sk-label input.sk-toggleable__control:checked~label.sk-toggleable__label {background-color: #d4ebff;}#sk-container-id-5 input.sk-hidden--visually {border: 0;clip: rect(1px 1px 1px 1px);clip: rect(1px, 1px, 1px, 1px);height: 1px;margin: -1px;overflow: hidden;padding: 0;position: absolute;width: 1px;}#sk-container-id-5 div.sk-estimator {font-family: monospace;background-color: #f0f8ff;border: 1px dotted black;border-radius: 0.25em;box-sizing: border-box;margin-bottom: 0.5em;}#sk-container-id-5 div.sk-estimator:hover {background-color: #d4ebff;}#sk-container-id-5 div.sk-parallel-item::after {content: \"\";width: 100%;border-bottom: 1px solid gray;flex-grow: 1;}#sk-container-id-5 div.sk-label:hover label.sk-toggleable__label {background-color: #d4ebff;}#sk-container-id-5 div.sk-serial::before {content: \"\";position: absolute;border-left: 1px solid gray;box-sizing: border-box;top: 0;bottom: 0;left: 50%;z-index: 0;}#sk-container-id-5 div.sk-serial {display: flex;flex-direction: column;align-items: center;background-color: white;padding-right: 0.2em;padding-left: 0.2em;position: relative;}#sk-container-id-5 div.sk-item {position: relative;z-index: 1;}#sk-container-id-5 div.sk-parallel {display: flex;align-items: stretch;justify-content: center;background-color: white;position: relative;}#sk-container-id-5 div.sk-item::before, #sk-container-id-5 div.sk-parallel-item::before {content: \"\";position: absolute;border-left: 1px solid gray;box-sizing: border-box;top: 0;bottom: 0;left: 50%;z-index: -1;}#sk-container-id-5 div.sk-parallel-item {display: flex;flex-direction: column;z-index: 1;position: relative;background-color: white;}#sk-container-id-5 div.sk-parallel-item:first-child::after {align-self: flex-end;width: 50%;}#sk-container-id-5 div.sk-parallel-item:last-child::after {align-self: flex-start;width: 50%;}#sk-container-id-5 div.sk-parallel-item:only-child::after {width: 0;}#sk-container-id-5 div.sk-dashed-wrapped {border: 1px dashed gray;margin: 0 0.4em 0.5em 0.4em;box-sizing: border-box;padding-bottom: 0.4em;background-color: white;}#sk-container-id-5 div.sk-label label {font-family: monospace;font-weight: bold;display: inline-block;line-height: 1.2em;}#sk-container-id-5 div.sk-label-container {text-align: center;}#sk-container-id-5 div.sk-container {/* jupyter's `normalize.less` sets `[hidden] { display: none; }` but bootstrap.min.css set `[hidden] { display: none !important; }` so we also need the `!important` here to be able to override the default hidden behavior on the sphinx rendered scikit-learn.org. See: https://github.com/scikit-learn/scikit-learn/issues/21755 */display: inline-block !important;position: relative;}#sk-container-id-5 div.sk-text-repr-fallback {display: none;}</style><div id=\"sk-container-id-5\" class=\"sk-top-container\"><div class=\"sk-text-repr-fallback\"><pre>GridSearchCV(cv=5, estimator=RandomForestRegressor(random_state=101),\n",
       "             param_grid={&#x27;max_depth&#x27;: [5, 10], &#x27;min_samples_leaf&#x27;: [1, 2],\n",
       "                         &#x27;min_samples_split&#x27;: [2, 5],\n",
       "                         &#x27;n_estimators&#x27;: [50, 100]})</pre><b>In a Jupyter environment, please rerun this cell to show the HTML representation or trust the notebook. <br />On GitHub, the HTML representation is unable to render, please try loading this page with nbviewer.org.</b></div><div class=\"sk-container\" hidden><div class=\"sk-item sk-dashed-wrapped\"><div class=\"sk-label-container\"><div class=\"sk-label sk-toggleable\"><input class=\"sk-toggleable__control sk-hidden--visually\" id=\"sk-estimator-id-9\" type=\"checkbox\" ><label for=\"sk-estimator-id-9\" class=\"sk-toggleable__label sk-toggleable__label-arrow\">GridSearchCV</label><div class=\"sk-toggleable__content\"><pre>GridSearchCV(cv=5, estimator=RandomForestRegressor(random_state=101),\n",
       "             param_grid={&#x27;max_depth&#x27;: [5, 10], &#x27;min_samples_leaf&#x27;: [1, 2],\n",
       "                         &#x27;min_samples_split&#x27;: [2, 5],\n",
       "                         &#x27;n_estimators&#x27;: [50, 100]})</pre></div></div></div><div class=\"sk-parallel\"><div class=\"sk-parallel-item\"><div class=\"sk-item\"><div class=\"sk-label-container\"><div class=\"sk-label sk-toggleable\"><input class=\"sk-toggleable__control sk-hidden--visually\" id=\"sk-estimator-id-10\" type=\"checkbox\" ><label for=\"sk-estimator-id-10\" class=\"sk-toggleable__label sk-toggleable__label-arrow\">estimator: RandomForestRegressor</label><div class=\"sk-toggleable__content\"><pre>RandomForestRegressor(random_state=101)</pre></div></div></div><div class=\"sk-serial\"><div class=\"sk-item\"><div class=\"sk-estimator sk-toggleable\"><input class=\"sk-toggleable__control sk-hidden--visually\" id=\"sk-estimator-id-11\" type=\"checkbox\" ><label for=\"sk-estimator-id-11\" class=\"sk-toggleable__label sk-toggleable__label-arrow\">RandomForestRegressor</label><div class=\"sk-toggleable__content\"><pre>RandomForestRegressor(random_state=101)</pre></div></div></div></div></div></div></div></div></div></div>"
      ],
      "text/plain": [
       "GridSearchCV(cv=5, estimator=RandomForestRegressor(random_state=101),\n",
       "             param_grid={'max_depth': [5, 10], 'min_samples_leaf': [1, 2],\n",
       "                         'min_samples_split': [2, 5],\n",
       "                         'n_estimators': [50, 100]})"
      ]
     },
     "execution_count": 216,
     "metadata": {},
     "output_type": "execute_result"
    }
   ],
   "source": [
    "param_grid = {\n",
    "    'n_estimators': [50, 100],\n",
    "    'max_depth': [5, 10],\n",
    "    'min_samples_split': [2, 5],\n",
    "    'min_samples_leaf': [1, 2]\n",
    "}\n",
    "\n",
    "rf_grid_cv = GridSearchCV(rf, param_grid, cv=5)\n",
    "rf_grid_cv.fit(X_train, y_train)"
   ]
  },
  {
   "cell_type": "code",
   "execution_count": 217,
   "metadata": {},
   "outputs": [
    {
     "name": "stdout",
     "output_type": "stream",
     "text": [
      "Best parameters: {'max_depth': 10, 'min_samples_leaf': 2, 'min_samples_split': 2, 'n_estimators': 100}\n",
      "Best score: 0.8282744313604887\n"
     ]
    }
   ],
   "source": [
    "print('Best parameters:', rf_grid_cv.best_params_)\n",
    "print('Best score:', rf_grid_cv.best_score_)"
   ]
  },
  {
   "attachments": {},
   "cell_type": "markdown",
   "metadata": {},
   "source": [
    "### 12. Refit random forest regressor with the best hyperparameters"
   ]
  },
  {
   "cell_type": "code",
   "execution_count": 218,
   "metadata": {},
   "outputs": [
    {
     "data": {
      "text/html": [
       "<style>#sk-container-id-6 {color: black;background-color: white;}#sk-container-id-6 pre{padding: 0;}#sk-container-id-6 div.sk-toggleable {background-color: white;}#sk-container-id-6 label.sk-toggleable__label {cursor: pointer;display: block;width: 100%;margin-bottom: 0;padding: 0.3em;box-sizing: border-box;text-align: center;}#sk-container-id-6 label.sk-toggleable__label-arrow:before {content: \"▸\";float: left;margin-right: 0.25em;color: #696969;}#sk-container-id-6 label.sk-toggleable__label-arrow:hover:before {color: black;}#sk-container-id-6 div.sk-estimator:hover label.sk-toggleable__label-arrow:before {color: black;}#sk-container-id-6 div.sk-toggleable__content {max-height: 0;max-width: 0;overflow: hidden;text-align: left;background-color: #f0f8ff;}#sk-container-id-6 div.sk-toggleable__content pre {margin: 0.2em;color: black;border-radius: 0.25em;background-color: #f0f8ff;}#sk-container-id-6 input.sk-toggleable__control:checked~div.sk-toggleable__content {max-height: 200px;max-width: 100%;overflow: auto;}#sk-container-id-6 input.sk-toggleable__control:checked~label.sk-toggleable__label-arrow:before {content: \"▾\";}#sk-container-id-6 div.sk-estimator input.sk-toggleable__control:checked~label.sk-toggleable__label {background-color: #d4ebff;}#sk-container-id-6 div.sk-label input.sk-toggleable__control:checked~label.sk-toggleable__label {background-color: #d4ebff;}#sk-container-id-6 input.sk-hidden--visually {border: 0;clip: rect(1px 1px 1px 1px);clip: rect(1px, 1px, 1px, 1px);height: 1px;margin: -1px;overflow: hidden;padding: 0;position: absolute;width: 1px;}#sk-container-id-6 div.sk-estimator {font-family: monospace;background-color: #f0f8ff;border: 1px dotted black;border-radius: 0.25em;box-sizing: border-box;margin-bottom: 0.5em;}#sk-container-id-6 div.sk-estimator:hover {background-color: #d4ebff;}#sk-container-id-6 div.sk-parallel-item::after {content: \"\";width: 100%;border-bottom: 1px solid gray;flex-grow: 1;}#sk-container-id-6 div.sk-label:hover label.sk-toggleable__label {background-color: #d4ebff;}#sk-container-id-6 div.sk-serial::before {content: \"\";position: absolute;border-left: 1px solid gray;box-sizing: border-box;top: 0;bottom: 0;left: 50%;z-index: 0;}#sk-container-id-6 div.sk-serial {display: flex;flex-direction: column;align-items: center;background-color: white;padding-right: 0.2em;padding-left: 0.2em;position: relative;}#sk-container-id-6 div.sk-item {position: relative;z-index: 1;}#sk-container-id-6 div.sk-parallel {display: flex;align-items: stretch;justify-content: center;background-color: white;position: relative;}#sk-container-id-6 div.sk-item::before, #sk-container-id-6 div.sk-parallel-item::before {content: \"\";position: absolute;border-left: 1px solid gray;box-sizing: border-box;top: 0;bottom: 0;left: 50%;z-index: -1;}#sk-container-id-6 div.sk-parallel-item {display: flex;flex-direction: column;z-index: 1;position: relative;background-color: white;}#sk-container-id-6 div.sk-parallel-item:first-child::after {align-self: flex-end;width: 50%;}#sk-container-id-6 div.sk-parallel-item:last-child::after {align-self: flex-start;width: 50%;}#sk-container-id-6 div.sk-parallel-item:only-child::after {width: 0;}#sk-container-id-6 div.sk-dashed-wrapped {border: 1px dashed gray;margin: 0 0.4em 0.5em 0.4em;box-sizing: border-box;padding-bottom: 0.4em;background-color: white;}#sk-container-id-6 div.sk-label label {font-family: monospace;font-weight: bold;display: inline-block;line-height: 1.2em;}#sk-container-id-6 div.sk-label-container {text-align: center;}#sk-container-id-6 div.sk-container {/* jupyter's `normalize.less` sets `[hidden] { display: none; }` but bootstrap.min.css set `[hidden] { display: none !important; }` so we also need the `!important` here to be able to override the default hidden behavior on the sphinx rendered scikit-learn.org. See: https://github.com/scikit-learn/scikit-learn/issues/21755 */display: inline-block !important;position: relative;}#sk-container-id-6 div.sk-text-repr-fallback {display: none;}</style><div id=\"sk-container-id-6\" class=\"sk-top-container\"><div class=\"sk-text-repr-fallback\"><pre>RandomForestRegressor(max_depth=15, min_samples_leaf=2, min_samples_split=10,\n",
       "                      n_estimators=200, random_state=101)</pre><b>In a Jupyter environment, please rerun this cell to show the HTML representation or trust the notebook. <br />On GitHub, the HTML representation is unable to render, please try loading this page with nbviewer.org.</b></div><div class=\"sk-container\" hidden><div class=\"sk-item\"><div class=\"sk-estimator sk-toggleable\"><input class=\"sk-toggleable__control sk-hidden--visually\" id=\"sk-estimator-id-12\" type=\"checkbox\" checked><label for=\"sk-estimator-id-12\" class=\"sk-toggleable__label sk-toggleable__label-arrow\">RandomForestRegressor</label><div class=\"sk-toggleable__content\"><pre>RandomForestRegressor(max_depth=15, min_samples_leaf=2, min_samples_split=10,\n",
       "                      n_estimators=200, random_state=101)</pre></div></div></div></div></div>"
      ],
      "text/plain": [
       "RandomForestRegressor(max_depth=15, min_samples_leaf=2, min_samples_split=10,\n",
       "                      n_estimators=200, random_state=101)"
      ]
     },
     "execution_count": 218,
     "metadata": {},
     "output_type": "execute_result"
    }
   ],
   "source": [
    "best_random_params = rf_random_cv.best_params_\n",
    "rf_random_best = RandomForestRegressor(\n",
    "    n_estimators=best_random_params['n_estimators'], \n",
    "    max_depth=best_random_params['max_depth'], \n",
    "    min_samples_split=best_random_params['min_samples_split'], \n",
    "    min_samples_leaf=best_random_params['min_samples_leaf'], \n",
    "    random_state=101\n",
    ")\n",
    "rf_random_best.fit(X_train_scaled, y_train)"
   ]
  },
  {
   "cell_type": "code",
   "execution_count": 219,
   "metadata": {},
   "outputs": [
    {
     "data": {
      "text/html": [
       "<style>#sk-container-id-7 {color: black;background-color: white;}#sk-container-id-7 pre{padding: 0;}#sk-container-id-7 div.sk-toggleable {background-color: white;}#sk-container-id-7 label.sk-toggleable__label {cursor: pointer;display: block;width: 100%;margin-bottom: 0;padding: 0.3em;box-sizing: border-box;text-align: center;}#sk-container-id-7 label.sk-toggleable__label-arrow:before {content: \"▸\";float: left;margin-right: 0.25em;color: #696969;}#sk-container-id-7 label.sk-toggleable__label-arrow:hover:before {color: black;}#sk-container-id-7 div.sk-estimator:hover label.sk-toggleable__label-arrow:before {color: black;}#sk-container-id-7 div.sk-toggleable__content {max-height: 0;max-width: 0;overflow: hidden;text-align: left;background-color: #f0f8ff;}#sk-container-id-7 div.sk-toggleable__content pre {margin: 0.2em;color: black;border-radius: 0.25em;background-color: #f0f8ff;}#sk-container-id-7 input.sk-toggleable__control:checked~div.sk-toggleable__content {max-height: 200px;max-width: 100%;overflow: auto;}#sk-container-id-7 input.sk-toggleable__control:checked~label.sk-toggleable__label-arrow:before {content: \"▾\";}#sk-container-id-7 div.sk-estimator input.sk-toggleable__control:checked~label.sk-toggleable__label {background-color: #d4ebff;}#sk-container-id-7 div.sk-label input.sk-toggleable__control:checked~label.sk-toggleable__label {background-color: #d4ebff;}#sk-container-id-7 input.sk-hidden--visually {border: 0;clip: rect(1px 1px 1px 1px);clip: rect(1px, 1px, 1px, 1px);height: 1px;margin: -1px;overflow: hidden;padding: 0;position: absolute;width: 1px;}#sk-container-id-7 div.sk-estimator {font-family: monospace;background-color: #f0f8ff;border: 1px dotted black;border-radius: 0.25em;box-sizing: border-box;margin-bottom: 0.5em;}#sk-container-id-7 div.sk-estimator:hover {background-color: #d4ebff;}#sk-container-id-7 div.sk-parallel-item::after {content: \"\";width: 100%;border-bottom: 1px solid gray;flex-grow: 1;}#sk-container-id-7 div.sk-label:hover label.sk-toggleable__label {background-color: #d4ebff;}#sk-container-id-7 div.sk-serial::before {content: \"\";position: absolute;border-left: 1px solid gray;box-sizing: border-box;top: 0;bottom: 0;left: 50%;z-index: 0;}#sk-container-id-7 div.sk-serial {display: flex;flex-direction: column;align-items: center;background-color: white;padding-right: 0.2em;padding-left: 0.2em;position: relative;}#sk-container-id-7 div.sk-item {position: relative;z-index: 1;}#sk-container-id-7 div.sk-parallel {display: flex;align-items: stretch;justify-content: center;background-color: white;position: relative;}#sk-container-id-7 div.sk-item::before, #sk-container-id-7 div.sk-parallel-item::before {content: \"\";position: absolute;border-left: 1px solid gray;box-sizing: border-box;top: 0;bottom: 0;left: 50%;z-index: -1;}#sk-container-id-7 div.sk-parallel-item {display: flex;flex-direction: column;z-index: 1;position: relative;background-color: white;}#sk-container-id-7 div.sk-parallel-item:first-child::after {align-self: flex-end;width: 50%;}#sk-container-id-7 div.sk-parallel-item:last-child::after {align-self: flex-start;width: 50%;}#sk-container-id-7 div.sk-parallel-item:only-child::after {width: 0;}#sk-container-id-7 div.sk-dashed-wrapped {border: 1px dashed gray;margin: 0 0.4em 0.5em 0.4em;box-sizing: border-box;padding-bottom: 0.4em;background-color: white;}#sk-container-id-7 div.sk-label label {font-family: monospace;font-weight: bold;display: inline-block;line-height: 1.2em;}#sk-container-id-7 div.sk-label-container {text-align: center;}#sk-container-id-7 div.sk-container {/* jupyter's `normalize.less` sets `[hidden] { display: none; }` but bootstrap.min.css set `[hidden] { display: none !important; }` so we also need the `!important` here to be able to override the default hidden behavior on the sphinx rendered scikit-learn.org. See: https://github.com/scikit-learn/scikit-learn/issues/21755 */display: inline-block !important;position: relative;}#sk-container-id-7 div.sk-text-repr-fallback {display: none;}</style><div id=\"sk-container-id-7\" class=\"sk-top-container\"><div class=\"sk-text-repr-fallback\"><pre>RandomForestRegressor(max_depth=10, min_samples_leaf=2, random_state=101)</pre><b>In a Jupyter environment, please rerun this cell to show the HTML representation or trust the notebook. <br />On GitHub, the HTML representation is unable to render, please try loading this page with nbviewer.org.</b></div><div class=\"sk-container\" hidden><div class=\"sk-item\"><div class=\"sk-estimator sk-toggleable\"><input class=\"sk-toggleable__control sk-hidden--visually\" id=\"sk-estimator-id-13\" type=\"checkbox\" checked><label for=\"sk-estimator-id-13\" class=\"sk-toggleable__label sk-toggleable__label-arrow\">RandomForestRegressor</label><div class=\"sk-toggleable__content\"><pre>RandomForestRegressor(max_depth=10, min_samples_leaf=2, random_state=101)</pre></div></div></div></div></div>"
      ],
      "text/plain": [
       "RandomForestRegressor(max_depth=10, min_samples_leaf=2, random_state=101)"
      ]
     },
     "execution_count": 219,
     "metadata": {},
     "output_type": "execute_result"
    }
   ],
   "source": [
    "best_grid_params = rf_grid_cv.best_params_\n",
    "rf_grid_best = RandomForestRegressor(\n",
    "    n_estimators=best_grid_params['n_estimators'], \n",
    "    max_depth=best_grid_params['max_depth'], \n",
    "    min_samples_split=best_grid_params['min_samples_split'], \n",
    "    min_samples_leaf=best_grid_params['min_samples_leaf'], \n",
    "    random_state=101\n",
    ")\n",
    "rf_grid_best.fit(X_train_scaled, y_train)"
   ]
  },
  {
   "attachments": {},
   "cell_type": "markdown",
   "metadata": {},
   "source": [
    "### 13. Make predictions"
   ]
  },
  {
   "cell_type": "code",
   "execution_count": 220,
   "metadata": {},
   "outputs": [],
   "source": [
    "y_pred_rf_random_best = rf_random_best.predict(X_test_scaled)\n",
    "y_pred_rf_grid_best = rf_grid_best.predict(X_test_scaled)"
   ]
  },
  {
   "attachments": {},
   "cell_type": "markdown",
   "metadata": {},
   "source": [
    "### 14. Compare all performances"
   ]
  },
  {
   "cell_type": "code",
   "execution_count": 222,
   "metadata": {},
   "outputs": [
    {
     "name": "stdout",
     "output_type": "stream",
     "text": [
      "Decision Tree Regression Performance:\n",
      "Mean Squared Error: 34.70543249742002\n",
      "Mean Absolute Error: 2.677693498452012\n",
      "Median Absolute Error: 1.5\n",
      "R-squared: 0.6249704521518453\n",
      "\n",
      "\n",
      "Initial Random Forest Regression Performance:\n",
      "Mean Squared Error: 17.052436565471105\n",
      "Mean Absolute Error: 1.8758026676986583\n",
      "Median Absolute Error: 1.104\n",
      "R-squared: 0.8157300712119527\n",
      "\n",
      "\n",
      "RandomizedSearchCV Random Forest Regression Performance:\n",
      "Mean Squared Error: 16.565678950700903\n",
      "Mean Absolute Error: 1.8767691810315807\n",
      "Median Absolute Error: 1.1285048912950946\n",
      "R-squared: 0.820990011084262\n",
      "\n",
      "\n",
      "GridSearchCV Random Forest Regression Performance:\n",
      "Mean Squared Error: 17.069630428623594\n",
      "Mean Absolute Error: 1.9493375945362865\n",
      "Median Absolute Error: 1.2023079789901807\n",
      "R-squared: 0.8155442730166897\n"
     ]
    }
   ],
   "source": [
    "from sklearn.metrics import mean_absolute_error, median_absolute_error\n",
    "\n",
    "mae_dt = mean_absolute_error(y_test, y_pred_dt)\n",
    "medae_dt = median_absolute_error(y_test, y_pred_dt)\n",
    "\n",
    "mae_rf = mean_absolute_error(y_test, y_pred_rf)\n",
    "medae_rf = median_absolute_error(y_test, y_pred_rf)\n",
    "\n",
    "mse_rf_random_best = mean_squared_error(y_test, y_pred_rf_random_best)\n",
    "r2_rf_random_best = r2_score(y_test, y_pred_rf_random_best)\n",
    "mae_rf_random_best = mean_absolute_error(y_test, y_pred_rf_random_best)\n",
    "medae_rf_random_best = median_absolute_error(y_test, y_pred_rf_random_best)\n",
    "\n",
    "mse_rf_grid_best = mean_squared_error(y_test, y_pred_rf_grid_best)\n",
    "r2_rf_grid_best = r2_score(y_test, y_pred_rf_grid_best)\n",
    "mae_rf_grid_best = mean_absolute_error(y_test, y_pred_rf_grid_best)\n",
    "medae_rf_grid_best = median_absolute_error(y_test, y_pred_rf_grid_best)\n",
    "\n",
    "print('Decision Tree Regression Performance:')\n",
    "print('Mean Squared Error:', mse_dt)\n",
    "print('Mean Absolute Error:', mae_dt)\n",
    "print('Median Absolute Error:', medae_dt)\n",
    "print('R-squared:', r2_dt)\n",
    "print('\\n')\n",
    "print('Initial Random Forest Regression Performance:')\n",
    "print('Mean Squared Error:', mse_rf)\n",
    "print('Mean Absolute Error:', mae_rf)\n",
    "print('Median Absolute Error:', medae_rf)\n",
    "print('R-squared:', r2_rf)\n",
    "print('\\n')\n",
    "print('RandomizedSearchCV Random Forest Regression Performance:')\n",
    "print('Mean Squared Error:', mse_rf_random_best)\n",
    "print('Mean Absolute Error:', mae_rf_random_best)\n",
    "print('Median Absolute Error:', medae_rf_random_best)\n",
    "print('R-squared:', r2_rf_random_best)\n",
    "print('\\n')\n",
    "print('GridSearchCV Random Forest Regression Performance:')\n",
    "print('Mean Squared Error:', mse_rf_grid_best)\n",
    "print('Mean Absolute Error:', mae_rf_grid_best)\n",
    "print('Median Absolute Error:', medae_rf_grid_best)\n",
    "print('R-squared:', r2_rf_grid_best)"
   ]
  },
  {
   "attachments": {},
   "cell_type": "markdown",
   "metadata": {},
   "source": [
    "The RandomizedSearchCV model is the best performing one!"
   ]
  }
 ],
 "metadata": {
  "kernelspec": {
   "display_name": "Python 3",
   "language": "python",
   "name": "python3"
  },
  "language_info": {
   "codemirror_mode": {
    "name": "ipython",
    "version": 3
   },
   "file_extension": ".py",
   "mimetype": "text/x-python",
   "name": "python",
   "nbconvert_exporter": "python",
   "pygments_lexer": "ipython3",
   "version": "3.11.2"
  },
  "orig_nbformat": 4
 },
 "nbformat": 4,
 "nbformat_minor": 2
}
